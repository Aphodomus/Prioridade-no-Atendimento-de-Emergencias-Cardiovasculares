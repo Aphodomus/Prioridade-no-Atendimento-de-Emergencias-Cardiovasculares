{
 "cells": [
  {
   "cell_type": "code",
   "execution_count": 22,
   "metadata": {},
   "outputs": [],
   "source": [
    "# Imports\n",
    "import numpy as np\n",
    "import pandas as pd\n",
    "from functions import *\n",
    "import cv2\n",
    "import tensorflow as tf\n",
    "import matplotlib.pyplot as plt\n",
    "from tensorflow.keras.applications import ResNet50\n",
    "from tensorflow.keras.layers import *\n",
    "from tensorflow.keras.models import *"
   ]
  },
  {
   "cell_type": "code",
   "execution_count": 2,
   "metadata": {},
   "outputs": [],
   "source": [
    "# Carregando o conjunto de dados de treinamento e teste\n",
    "dataset_train = get_train()\n",
    "dataset_test = get_test()"
   ]
  },
  {
   "cell_type": "code",
   "execution_count": 3,
   "metadata": {},
   "outputs": [
    {
     "data": {
      "text/html": [
       "<div>\n",
       "<style scoped>\n",
       "    .dataframe tbody tr th:only-of-type {\n",
       "        vertical-align: middle;\n",
       "    }\n",
       "\n",
       "    .dataframe tbody tr th {\n",
       "        vertical-align: top;\n",
       "    }\n",
       "\n",
       "    .dataframe thead th {\n",
       "        text-align: right;\n",
       "    }\n",
       "</style>\n",
       "<table border=\"1\" class=\"dataframe\">\n",
       "  <thead>\n",
       "    <tr style=\"text-align: right;\">\n",
       "      <th></th>\n",
       "      <th>Filepath</th>\n",
       "      <th>Label</th>\n",
       "    </tr>\n",
       "  </thead>\n",
       "  <tbody>\n",
       "    <tr>\n",
       "      <th>0</th>\n",
       "      <td>..\\images\\train\\F\\F1.png</td>\n",
       "      <td>F</td>\n",
       "    </tr>\n",
       "    <tr>\n",
       "      <th>1</th>\n",
       "      <td>..\\images\\train\\F\\F10.png</td>\n",
       "      <td>F</td>\n",
       "    </tr>\n",
       "    <tr>\n",
       "      <th>2</th>\n",
       "      <td>..\\images\\train\\F\\F100.png</td>\n",
       "      <td>F</td>\n",
       "    </tr>\n",
       "    <tr>\n",
       "      <th>3</th>\n",
       "      <td>..\\images\\train\\F\\F101.png</td>\n",
       "      <td>F</td>\n",
       "    </tr>\n",
       "    <tr>\n",
       "      <th>4</th>\n",
       "      <td>..\\images\\train\\F\\F102.png</td>\n",
       "      <td>F</td>\n",
       "    </tr>\n",
       "    <tr>\n",
       "      <th>...</th>\n",
       "      <td>...</td>\n",
       "      <td>...</td>\n",
       "    </tr>\n",
       "    <tr>\n",
       "      <th>99194</th>\n",
       "      <td>..\\images\\train\\V\\V995.png</td>\n",
       "      <td>V</td>\n",
       "    </tr>\n",
       "    <tr>\n",
       "      <th>99195</th>\n",
       "      <td>..\\images\\train\\V\\V996.png</td>\n",
       "      <td>V</td>\n",
       "    </tr>\n",
       "    <tr>\n",
       "      <th>99196</th>\n",
       "      <td>..\\images\\train\\V\\V997.png</td>\n",
       "      <td>V</td>\n",
       "    </tr>\n",
       "    <tr>\n",
       "      <th>99197</th>\n",
       "      <td>..\\images\\train\\V\\V998.png</td>\n",
       "      <td>V</td>\n",
       "    </tr>\n",
       "    <tr>\n",
       "      <th>99198</th>\n",
       "      <td>..\\images\\train\\V\\V999.png</td>\n",
       "      <td>V</td>\n",
       "    </tr>\n",
       "  </tbody>\n",
       "</table>\n",
       "<p>99199 rows × 2 columns</p>\n",
       "</div>"
      ],
      "text/plain": [
       "                         Filepath Label\n",
       "0        ..\\images\\train\\F\\F1.png     F\n",
       "1       ..\\images\\train\\F\\F10.png     F\n",
       "2      ..\\images\\train\\F\\F100.png     F\n",
       "3      ..\\images\\train\\F\\F101.png     F\n",
       "4      ..\\images\\train\\F\\F102.png     F\n",
       "...                           ...   ...\n",
       "99194  ..\\images\\train\\V\\V995.png     V\n",
       "99195  ..\\images\\train\\V\\V996.png     V\n",
       "99196  ..\\images\\train\\V\\V997.png     V\n",
       "99197  ..\\images\\train\\V\\V998.png     V\n",
       "99198  ..\\images\\train\\V\\V999.png     V\n",
       "\n",
       "[99199 rows x 2 columns]"
      ]
     },
     "execution_count": 3,
     "metadata": {},
     "output_type": "execute_result"
    }
   ],
   "source": [
    "# Dataset de treinamento\n",
    "dataset_train"
   ]
  },
  {
   "cell_type": "code",
   "execution_count": 4,
   "metadata": {},
   "outputs": [
    {
     "data": {
      "text/html": [
       "<div>\n",
       "<style scoped>\n",
       "    .dataframe tbody tr th:only-of-type {\n",
       "        vertical-align: middle;\n",
       "    }\n",
       "\n",
       "    .dataframe tbody tr th {\n",
       "        vertical-align: top;\n",
       "    }\n",
       "\n",
       "    .dataframe thead th {\n",
       "        text-align: right;\n",
       "    }\n",
       "</style>\n",
       "<table border=\"1\" class=\"dataframe\">\n",
       "  <thead>\n",
       "    <tr style=\"text-align: right;\">\n",
       "      <th></th>\n",
       "      <th>Filepath</th>\n",
       "      <th>Label</th>\n",
       "    </tr>\n",
       "  </thead>\n",
       "  <tbody>\n",
       "    <tr>\n",
       "      <th>0</th>\n",
       "      <td>..\\images\\test\\F\\F0.png</td>\n",
       "      <td>F</td>\n",
       "    </tr>\n",
       "    <tr>\n",
       "      <th>1</th>\n",
       "      <td>..\\images\\test\\F\\F104.png</td>\n",
       "      <td>F</td>\n",
       "    </tr>\n",
       "    <tr>\n",
       "      <th>2</th>\n",
       "      <td>..\\images\\test\\F\\F113.png</td>\n",
       "      <td>F</td>\n",
       "    </tr>\n",
       "    <tr>\n",
       "      <th>3</th>\n",
       "      <td>..\\images\\test\\F\\F115.png</td>\n",
       "      <td>F</td>\n",
       "    </tr>\n",
       "    <tr>\n",
       "      <th>4</th>\n",
       "      <td>..\\images\\test\\F\\F118.png</td>\n",
       "      <td>F</td>\n",
       "    </tr>\n",
       "    <tr>\n",
       "      <th>...</th>\n",
       "      <td>...</td>\n",
       "      <td>...</td>\n",
       "    </tr>\n",
       "    <tr>\n",
       "      <th>24794</th>\n",
       "      <td>..\\images\\test\\V\\V98.png</td>\n",
       "      <td>V</td>\n",
       "    </tr>\n",
       "    <tr>\n",
       "      <th>24795</th>\n",
       "      <td>..\\images\\test\\V\\V981.png</td>\n",
       "      <td>V</td>\n",
       "    </tr>\n",
       "    <tr>\n",
       "      <th>24796</th>\n",
       "      <td>..\\images\\test\\V\\V986.png</td>\n",
       "      <td>V</td>\n",
       "    </tr>\n",
       "    <tr>\n",
       "      <th>24797</th>\n",
       "      <td>..\\images\\test\\V\\V987.png</td>\n",
       "      <td>V</td>\n",
       "    </tr>\n",
       "    <tr>\n",
       "      <th>24798</th>\n",
       "      <td>..\\images\\test\\V\\V991.png</td>\n",
       "      <td>V</td>\n",
       "    </tr>\n",
       "  </tbody>\n",
       "</table>\n",
       "<p>24799 rows × 2 columns</p>\n",
       "</div>"
      ],
      "text/plain": [
       "                        Filepath Label\n",
       "0        ..\\images\\test\\F\\F0.png     F\n",
       "1      ..\\images\\test\\F\\F104.png     F\n",
       "2      ..\\images\\test\\F\\F113.png     F\n",
       "3      ..\\images\\test\\F\\F115.png     F\n",
       "4      ..\\images\\test\\F\\F118.png     F\n",
       "...                          ...   ...\n",
       "24794   ..\\images\\test\\V\\V98.png     V\n",
       "24795  ..\\images\\test\\V\\V981.png     V\n",
       "24796  ..\\images\\test\\V\\V986.png     V\n",
       "24797  ..\\images\\test\\V\\V987.png     V\n",
       "24798  ..\\images\\test\\V\\V991.png     V\n",
       "\n",
       "[24799 rows x 2 columns]"
      ]
     },
     "execution_count": 4,
     "metadata": {},
     "output_type": "execute_result"
    }
   ],
   "source": [
    "# Dataset de teste\n",
    "dataset_test"
   ]
  },
  {
   "cell_type": "code",
   "execution_count": 5,
   "metadata": {},
   "outputs": [
    {
     "name": "stdout",
     "output_type": "stream",
     "text": [
      "N    75709\n",
      "M     8405\n",
      "Q     6431\n",
      "V     5789\n",
      "S     2223\n",
      "F      642\n",
      "Name: Label, dtype: int64\n"
     ]
    }
   ],
   "source": [
    "# Quantas instâncias existem para cada label de treinamento\n",
    "print(dataset_train['Label'].value_counts())"
   ]
  },
  {
   "cell_type": "code",
   "execution_count": 6,
   "metadata": {},
   "outputs": [
    {
     "name": "stdout",
     "output_type": "stream",
     "text": [
      "N    18926\n",
      "M     2101\n",
      "Q     1608\n",
      "V     1447\n",
      "S      556\n",
      "F      161\n",
      "Name: Label, dtype: int64\n"
     ]
    }
   ],
   "source": [
    "# Quantas instâncias existem para cada label de teste\n",
    "print(dataset_test['Label'].value_counts())"
   ]
  },
  {
   "cell_type": "code",
   "execution_count": 7,
   "metadata": {},
   "outputs": [
    {
     "data": {
      "text/plain": [
       "N    640\n",
       "Q    640\n",
       "S    640\n",
       "F    640\n",
       "M    640\n",
       "V    640\n",
       "Name: Label, dtype: int64"
      ]
     },
     "execution_count": 7,
     "metadata": {},
     "output_type": "execute_result"
    }
   ],
   "source": [
    "# Balanceamento dos dados de treinamento\n",
    "\n",
    "samples = []\n",
    "for category in ['N','M','Q','V','S','F']:\n",
    "    category_slice = dataset_train.query(\"Label == @category\")\n",
    "    samples.append(category_slice.sample(640, random_state=1))\n",
    "\n",
    "dataframe_train = pd.concat(samples, axis=0).sample(frac=1.0, random_state=1).reset_index(drop=True)\n",
    "dataframe_train['Label'].value_counts()"
   ]
  },
  {
   "cell_type": "code",
   "execution_count": 8,
   "metadata": {},
   "outputs": [
    {
     "data": {
      "text/plain": [
       "M    160\n",
       "F    160\n",
       "Q    160\n",
       "N    160\n",
       "V    160\n",
       "S    160\n",
       "Name: Label, dtype: int64"
      ]
     },
     "execution_count": 8,
     "metadata": {},
     "output_type": "execute_result"
    }
   ],
   "source": [
    "# Balanceamento dos dados de teste\n",
    "\n",
    "samples = []\n",
    "for category in ['N','M','Q','V','S','F']:\n",
    "    category_slice = dataset_test.query(\"Label == @category\")\n",
    "    samples.append(category_slice.sample(160, random_state=1))\n",
    "\n",
    "dataframe_test = pd.concat(samples, axis=0).sample(frac=1.0, random_state=1).reset_index(drop=True)\n",
    "dataframe_test['Label'].value_counts()"
   ]
  },
  {
   "cell_type": "code",
   "execution_count": 9,
   "metadata": {},
   "outputs": [
    {
     "data": {
      "text/html": [
       "<div>\n",
       "<style scoped>\n",
       "    .dataframe tbody tr th:only-of-type {\n",
       "        vertical-align: middle;\n",
       "    }\n",
       "\n",
       "    .dataframe tbody tr th {\n",
       "        vertical-align: top;\n",
       "    }\n",
       "\n",
       "    .dataframe thead th {\n",
       "        text-align: right;\n",
       "    }\n",
       "</style>\n",
       "<table border=\"1\" class=\"dataframe\">\n",
       "  <thead>\n",
       "    <tr style=\"text-align: right;\">\n",
       "      <th></th>\n",
       "      <th>Filepath</th>\n",
       "      <th>Label</th>\n",
       "    </tr>\n",
       "  </thead>\n",
       "  <tbody>\n",
       "    <tr>\n",
       "      <th>0</th>\n",
       "      <td>..\\images\\train\\N\\N80645.png</td>\n",
       "      <td>N</td>\n",
       "    </tr>\n",
       "    <tr>\n",
       "      <th>1</th>\n",
       "      <td>..\\images\\train\\Q\\Q644.png</td>\n",
       "      <td>Q</td>\n",
       "    </tr>\n",
       "    <tr>\n",
       "      <th>2</th>\n",
       "      <td>..\\images\\train\\S\\S2383.png</td>\n",
       "      <td>S</td>\n",
       "    </tr>\n",
       "    <tr>\n",
       "      <th>3</th>\n",
       "      <td>..\\images\\train\\S\\S2269.png</td>\n",
       "      <td>S</td>\n",
       "    </tr>\n",
       "    <tr>\n",
       "      <th>4</th>\n",
       "      <td>..\\images\\train\\F\\F138.png</td>\n",
       "      <td>F</td>\n",
       "    </tr>\n",
       "    <tr>\n",
       "      <th>...</th>\n",
       "      <td>...</td>\n",
       "      <td>...</td>\n",
       "    </tr>\n",
       "    <tr>\n",
       "      <th>3835</th>\n",
       "      <td>..\\images\\train\\S\\S1594.png</td>\n",
       "      <td>S</td>\n",
       "    </tr>\n",
       "    <tr>\n",
       "      <th>3836</th>\n",
       "      <td>..\\images\\train\\M\\M5641.png</td>\n",
       "      <td>M</td>\n",
       "    </tr>\n",
       "    <tr>\n",
       "      <th>3837</th>\n",
       "      <td>..\\images\\train\\M\\M8804.png</td>\n",
       "      <td>M</td>\n",
       "    </tr>\n",
       "    <tr>\n",
       "      <th>3838</th>\n",
       "      <td>..\\images\\train\\N\\N46498.png</td>\n",
       "      <td>N</td>\n",
       "    </tr>\n",
       "    <tr>\n",
       "      <th>3839</th>\n",
       "      <td>..\\images\\train\\M\\M7168.png</td>\n",
       "      <td>M</td>\n",
       "    </tr>\n",
       "  </tbody>\n",
       "</table>\n",
       "<p>3840 rows × 2 columns</p>\n",
       "</div>"
      ],
      "text/plain": [
       "                          Filepath Label\n",
       "0     ..\\images\\train\\N\\N80645.png     N\n",
       "1       ..\\images\\train\\Q\\Q644.png     Q\n",
       "2      ..\\images\\train\\S\\S2383.png     S\n",
       "3      ..\\images\\train\\S\\S2269.png     S\n",
       "4       ..\\images\\train\\F\\F138.png     F\n",
       "...                            ...   ...\n",
       "3835   ..\\images\\train\\S\\S1594.png     S\n",
       "3836   ..\\images\\train\\M\\M5641.png     M\n",
       "3837   ..\\images\\train\\M\\M8804.png     M\n",
       "3838  ..\\images\\train\\N\\N46498.png     N\n",
       "3839   ..\\images\\train\\M\\M7168.png     M\n",
       "\n",
       "[3840 rows x 2 columns]"
      ]
     },
     "execution_count": 9,
     "metadata": {},
     "output_type": "execute_result"
    }
   ],
   "source": [
    "# Dataset de treinamento agora balanceado\n",
    "dataframe_train"
   ]
  },
  {
   "cell_type": "code",
   "execution_count": 10,
   "metadata": {},
   "outputs": [
    {
     "data": {
      "text/html": [
       "<div>\n",
       "<style scoped>\n",
       "    .dataframe tbody tr th:only-of-type {\n",
       "        vertical-align: middle;\n",
       "    }\n",
       "\n",
       "    .dataframe tbody tr th {\n",
       "        vertical-align: top;\n",
       "    }\n",
       "\n",
       "    .dataframe thead th {\n",
       "        text-align: right;\n",
       "    }\n",
       "</style>\n",
       "<table border=\"1\" class=\"dataframe\">\n",
       "  <thead>\n",
       "    <tr style=\"text-align: right;\">\n",
       "      <th></th>\n",
       "      <th>Filepath</th>\n",
       "      <th>Label</th>\n",
       "    </tr>\n",
       "  </thead>\n",
       "  <tbody>\n",
       "    <tr>\n",
       "      <th>0</th>\n",
       "      <td>..\\images\\test\\M\\M933.png</td>\n",
       "      <td>M</td>\n",
       "    </tr>\n",
       "    <tr>\n",
       "      <th>1</th>\n",
       "      <td>..\\images\\test\\F\\F377.png</td>\n",
       "      <td>F</td>\n",
       "    </tr>\n",
       "    <tr>\n",
       "      <th>2</th>\n",
       "      <td>..\\images\\test\\Q\\Q6746.png</td>\n",
       "      <td>Q</td>\n",
       "    </tr>\n",
       "    <tr>\n",
       "      <th>3</th>\n",
       "      <td>..\\images\\test\\Q\\Q883.png</td>\n",
       "      <td>Q</td>\n",
       "    </tr>\n",
       "    <tr>\n",
       "      <th>4</th>\n",
       "      <td>..\\images\\test\\Q\\Q6569.png</td>\n",
       "      <td>Q</td>\n",
       "    </tr>\n",
       "    <tr>\n",
       "      <th>...</th>\n",
       "      <td>...</td>\n",
       "      <td>...</td>\n",
       "    </tr>\n",
       "    <tr>\n",
       "      <th>955</th>\n",
       "      <td>..\\images\\test\\S\\S1979.png</td>\n",
       "      <td>S</td>\n",
       "    </tr>\n",
       "    <tr>\n",
       "      <th>956</th>\n",
       "      <td>..\\images\\test\\N\\N26059.png</td>\n",
       "      <td>N</td>\n",
       "    </tr>\n",
       "    <tr>\n",
       "      <th>957</th>\n",
       "      <td>..\\images\\test\\F\\F418.png</td>\n",
       "      <td>F</td>\n",
       "    </tr>\n",
       "    <tr>\n",
       "      <th>958</th>\n",
       "      <td>..\\images\\test\\M\\M971.png</td>\n",
       "      <td>M</td>\n",
       "    </tr>\n",
       "    <tr>\n",
       "      <th>959</th>\n",
       "      <td>..\\images\\test\\N\\N84538.png</td>\n",
       "      <td>N</td>\n",
       "    </tr>\n",
       "  </tbody>\n",
       "</table>\n",
       "<p>960 rows × 2 columns</p>\n",
       "</div>"
      ],
      "text/plain": [
       "                        Filepath Label\n",
       "0      ..\\images\\test\\M\\M933.png     M\n",
       "1      ..\\images\\test\\F\\F377.png     F\n",
       "2     ..\\images\\test\\Q\\Q6746.png     Q\n",
       "3      ..\\images\\test\\Q\\Q883.png     Q\n",
       "4     ..\\images\\test\\Q\\Q6569.png     Q\n",
       "..                           ...   ...\n",
       "955   ..\\images\\test\\S\\S1979.png     S\n",
       "956  ..\\images\\test\\N\\N26059.png     N\n",
       "957    ..\\images\\test\\F\\F418.png     F\n",
       "958    ..\\images\\test\\M\\M971.png     M\n",
       "959  ..\\images\\test\\N\\N84538.png     N\n",
       "\n",
       "[960 rows x 2 columns]"
      ]
     },
     "execution_count": 10,
     "metadata": {},
     "output_type": "execute_result"
    }
   ],
   "source": [
    "# Dataset de teste agora balanceado\n",
    "dataframe_test"
   ]
  },
  {
   "cell_type": "code",
   "execution_count": 12,
   "metadata": {},
   "outputs": [],
   "source": [
    "def rgb_to_gray(image):\n",
    "    image = cv2.cvtColor(image, cv2.COLOR_BGR2GRAY)\n",
    "    image = cv2.merge((image,image,image))\n",
    "    image = tf.keras.applications.resnet50.preprocess_input(image)\n",
    "    return image"
   ]
  },
  {
   "cell_type": "code",
   "execution_count": 13,
   "metadata": {},
   "outputs": [],
   "source": [
    "train_generator = tf.keras.preprocessing.image.ImageDataGenerator(\n",
    "    preprocessing_function=rgb_to_gray,\n",
    "    rescale=1./255,\n",
    "    validation_split=0.2\n",
    ")\n",
    "\n",
    "test_generator = tf.keras.preprocessing.image.ImageDataGenerator(\n",
    "    preprocessing_function=rgb_to_gray,\n",
    "    rescale=1./255\n",
    ")"
   ]
  },
  {
   "cell_type": "code",
   "execution_count": 14,
   "metadata": {},
   "outputs": [
    {
     "name": "stdout",
     "output_type": "stream",
     "text": [
      "Found 3072 validated image filenames belonging to 6 classes.\n",
      "Found 768 validated image filenames belonging to 6 classes.\n",
      "Found 960 validated image filenames belonging to 6 classes.\n"
     ]
    }
   ],
   "source": [
    "size=224\n",
    "color_mode='rgb'\n",
    "batch_size=32\n",
    "\n",
    "train_images = train_generator.flow_from_dataframe(\n",
    "    dataframe=dataframe_train,\n",
    "    x_col='Filepath',\n",
    "    y_col='Label',\n",
    "    target_size=(size, size),\n",
    "    color_mode=color_mode,\n",
    "    class_mode='categorical',\n",
    "    batch_size=batch_size,\n",
    "    shuffle=True,\n",
    "    seed=42,\n",
    "    subset='training'\n",
    ")\n",
    "\n",
    "val_images = train_generator.flow_from_dataframe(\n",
    "    dataframe=dataframe_train,\n",
    "    x_col='Filepath',\n",
    "    y_col='Label',\n",
    "    target_size=(size, size),\n",
    "    color_mode=color_mode,\n",
    "    class_mode='categorical',\n",
    "    batch_size=batch_size,\n",
    "    shuffle=True,\n",
    "    seed=42,\n",
    "    subset='validation'\n",
    ")\n",
    "\n",
    "test_images = test_generator.flow_from_dataframe(\n",
    "    dataframe=dataframe_test,\n",
    "    x_col='Filepath',\n",
    "    y_col='Label',\n",
    "    target_size=(size, size),\n",
    "    color_mode=color_mode,\n",
    "    class_mode='categorical',\n",
    "    batch_size=batch_size,\n",
    "    shuffle=False\n",
    ")"
   ]
  },
  {
   "cell_type": "code",
   "execution_count": 15,
   "metadata": {},
   "outputs": [
    {
     "data": {
      "text/plain": [
       "{'F': 0, 'M': 1, 'N': 2, 'Q': 3, 'S': 4, 'V': 5}"
      ]
     },
     "execution_count": 15,
     "metadata": {},
     "output_type": "execute_result"
    }
   ],
   "source": [
    "test_images.class_indices"
   ]
  },
  {
   "cell_type": "code",
   "execution_count": 17,
   "metadata": {},
   "outputs": [
    {
     "data": {
      "text/plain": [
       "<matplotlib.image.AxesImage at 0x1d5e18a6590>"
      ]
     },
     "execution_count": 17,
     "metadata": {},
     "output_type": "execute_result"
    },
    {
     "data": {
      "image/png": "[encoded data removed]",
      "text/plain": [
       "<Figure size 432x288 with 1 Axes>"
      ]
     },
     "metadata": {
      "needs_background": "light"
     },
     "output_type": "display_data"
    }
   ],
   "source": [
    "plt.imshow(test_images[0][0][3])"
   ]
  },
  {
   "cell_type": "code",
   "execution_count": 21,
   "metadata": {},
   "outputs": [
    {
     "name": "stdout",
     "output_type": "stream",
     "text": [
      "Downloading data from https://storage.googleapis.com/tensorflow/keras-applications/resnet/resnet50_weights_tf_dim_ordering_tf_kernels_notop.h5\n",
      "94765736/94765736 [==============================] - 5s 0us/step\n"
     ]
    }
   ],
   "source": [
    "# Modelando por meio da ResNet50\n",
    "pretrained_model = ResNet50(\n",
    "                              input_shape=(224,224,3),\n",
    "                              include_top= False,\n",
    "                              weights='imagenet',\n",
    "                              pooling='avg'\n",
    "                              )\n",
    "\n",
    "pretrained_model.trainable = False"
   ]
  },
  {
   "cell_type": "code",
   "execution_count": 23,
   "metadata": {},
   "outputs": [
    {
     "name": "stdout",
     "output_type": "stream",
     "text": [
      "Model: \"sequential\"\n",
      "_________________________________________________________________\n",
      " Layer (type)                Output Shape              Param #   \n",
      "=================================================================\n",
      " resnet50 (Functional)       (None, 2048)              23587712  \n",
      "                                                                 \n",
      " flatten (Flatten)           (None, 2048)              0         \n",
      "                                                                 \n",
      " dropout (Dropout)           (None, 2048)              0         \n",
      "                                                                 \n",
      " dense (Dense)               (None, 128)               262272    \n",
      "                                                                 \n",
      " dense_1 (Dense)             (None, 64)                8256      \n",
      "                                                                 \n",
      " dense_2 (Dense)             (None, 6)                 390       \n",
      "                                                                 \n",
      "=================================================================\n",
      "Total params: 23,858,630\n",
      "Trainable params: 270,918\n",
      "Non-trainable params: 23,587,712\n",
      "_________________________________________________________________\n"
     ]
    }
   ],
   "source": [
    "model = Sequential ([\n",
    "                        pretrained_model,\n",
    "                        Flatten(),\n",
    "                        Dropout(0.2),\n",
    "                        Dense(128, activation='relu'),\n",
    "                        Dense(64, activation='relu'),\n",
    "                        Dense(6, activation='softmax')\n",
    "                    ])\n",
    "\n",
    "\n",
    "model.summary()"
   ]
  },
  {
   "cell_type": "code",
   "execution_count": 24,
   "metadata": {},
   "outputs": [],
   "source": [
    "import keras\n",
    "checkpoint = keras.callbacks.ModelCheckpoint(\n",
    "    filepath='best_model.h5',\n",
    "    save_weights_only=False,\n",
    "    monitor='val_accuracy',\n",
    "    mode='max',\n",
    "    save_best_only=True,\n",
    "    verbose=1)"
   ]
  },
  {
   "cell_type": "code",
   "execution_count": 25,
   "metadata": {},
   "outputs": [],
   "source": [
    "model.compile(loss='categorical_crossentropy', optimizer='adam',\n",
    "              metrics=['accuracy',\n",
    "                       'Precision',\n",
    "                       'Recall',\n",
    "                       tf.keras.metrics.AUC(\n",
    "                           num_thresholds=200,\n",
    "                           curve=\"ROC\",\n",
    "                           summation_method=\"interpolation\",\n",
    "                           multi_label=False\n",
    "                       )])\n"
   ]
  },
  {
   "cell_type": "code",
   "execution_count": 26,
   "metadata": {},
   "outputs": [
    {
     "name": "stdout",
     "output_type": "stream",
     "text": [
      "Epoch 1/10\n",
      "96/96 [==============================] - ETA: 0s - loss: 1.3273 - accuracy: 0.4798 - precision: 0.8022 - recall: 0.1201 - auc: 0.8216\n",
      "Epoch 1: val_accuracy improved from -inf to 0.69661, saving model to best_model.h5\n",
      "96/96 [==============================] - 354s 4s/step - loss: 1.3273 - accuracy: 0.4798 - precision: 0.8022 - recall: 0.1201 - auc: 0.8216 - val_loss: 0.8676 - val_accuracy: 0.6966 - val_precision: 0.7053 - val_recall: 0.3490 - val_auc: 0.9379\n",
      "Epoch 2/10\n",
      "96/96 [==============================] - ETA: 0s - loss: 0.7771 - accuracy: 0.6937 - precision: 0.7828 - recall: 0.4880 - auc: 0.9448\n",
      "Epoch 2: val_accuracy did not improve from 0.69661\n",
      "96/96 [==============================] - 336s 4s/step - loss: 0.7771 - accuracy: 0.6937 - precision: 0.7828 - recall: 0.4880 - auc: 0.9448 - val_loss: 0.6175 - val_accuracy: 0.6784 - val_precision: 0.7143 - val_recall: 0.5924 - val_auc: 0.9604\n",
      "Epoch 3/10\n",
      "96/96 [==============================] - ETA: 0s - loss: 0.5514 - accuracy: 0.8001 - precision: 0.8349 - recall: 0.7340 - auc: 0.9729\n",
      "Epoch 3: val_accuracy improved from 0.69661 to 0.83464, saving model to best_model.h5\n",
      "96/96 [==============================] - 337s 4s/step - loss: 0.5514 - accuracy: 0.8001 - precision: 0.8349 - recall: 0.7340 - auc: 0.9729 - val_loss: 0.4491 - val_accuracy: 0.8346 - val_precision: 0.8591 - val_recall: 0.8099 - val_auc: 0.9828\n",
      "Epoch 4/10\n",
      "96/96 [==============================] - ETA: 0s - loss: 0.4479 - accuracy: 0.8408 - precision: 0.8621 - recall: 0.8158 - auc: 0.9812\n",
      "Epoch 4: val_accuracy improved from 0.83464 to 0.90365, saving model to best_model.h5\n",
      "96/96 [==============================] - 396s 4s/step - loss: 0.4479 - accuracy: 0.8408 - precision: 0.8621 - recall: 0.8158 - auc: 0.9812 - val_loss: 0.3392 - val_accuracy: 0.9036 - val_precision: 0.9114 - val_recall: 0.8971 - val_auc: 0.9912\n",
      "Epoch 5/10\n",
      "96/96 [==============================] - ETA: 0s - loss: 0.3728 - accuracy: 0.8818 - precision: 0.8895 - recall: 0.8646 - auc: 0.9864\n",
      "Epoch 5: val_accuracy did not improve from 0.90365\n",
      "96/96 [==============================] - 402s 4s/step - loss: 0.3728 - accuracy: 0.8818 - precision: 0.8895 - recall: 0.8646 - auc: 0.9864 - val_loss: 0.3206 - val_accuracy: 0.8789 - val_precision: 0.8862 - val_recall: 0.8724 - val_auc: 0.9896\n",
      "Epoch 6/10\n",
      "96/96 [==============================] - ETA: 0s - loss: 0.3294 - accuracy: 0.8838 - precision: 0.8896 - recall: 0.8730 - auc: 0.9891\n",
      "Epoch 6: val_accuracy did not improve from 0.90365\n",
      "96/96 [==============================] - 396s 4s/step - loss: 0.3294 - accuracy: 0.8838 - precision: 0.8896 - recall: 0.8730 - auc: 0.9891 - val_loss: 0.3133 - val_accuracy: 0.8789 - val_precision: 0.8832 - val_recall: 0.8763 - val_auc: 0.9888\n",
      "Epoch 7/10\n",
      "96/96 [==============================] - ETA: 0s - loss: 0.3060 - accuracy: 0.8936 - precision: 0.9009 - recall: 0.8874 - auc: 0.9897\n",
      "Epoch 7: val_accuracy improved from 0.90365 to 0.92448, saving model to best_model.h5\n",
      "96/96 [==============================] - 389s 4s/step - loss: 0.3060 - accuracy: 0.8936 - precision: 0.9009 - recall: 0.8874 - auc: 0.9897 - val_loss: 0.2208 - val_accuracy: 0.9245 - val_precision: 0.9281 - val_recall: 0.9245 - val_auc: 0.9948\n",
      "Epoch 8/10\n",
      "96/96 [==============================] - ETA: 0s - loss: 0.2862 - accuracy: 0.8991 - precision: 0.9053 - recall: 0.8932 - auc: 0.9907\n",
      "Epoch 8: val_accuracy improved from 0.92448 to 0.93490, saving model to best_model.h5\n",
      "96/96 [==============================] - 382s 4s/step - loss: 0.2862 - accuracy: 0.8991 - precision: 0.9053 - recall: 0.8932 - auc: 0.9907 - val_loss: 0.2114 - val_accuracy: 0.9349 - val_precision: 0.9384 - val_recall: 0.9323 - val_auc: 0.9950\n",
      "Epoch 9/10\n",
      "96/96 [==============================] - ETA: 0s - loss: 0.2478 - accuracy: 0.9186 - precision: 0.9214 - recall: 0.9154 - auc: 0.9931\n",
      "Epoch 9: val_accuracy did not improve from 0.93490\n",
      "96/96 [==============================] - 415s 4s/step - loss: 0.2478 - accuracy: 0.9186 - precision: 0.9214 - recall: 0.9154 - auc: 0.9931 - val_loss: 0.2061 - val_accuracy: 0.9271 - val_precision: 0.9331 - val_recall: 0.9258 - val_auc: 0.9950\n",
      "Epoch 10/10\n",
      "96/96 [==============================] - ETA: 0s - loss: 0.2534 - accuracy: 0.9131 - precision: 0.9160 - recall: 0.9089 - auc: 0.9923\n",
      "Epoch 10: val_accuracy did not improve from 0.93490\n",
      "96/96 [==============================] - 365s 4s/step - loss: 0.2534 - accuracy: 0.9131 - precision: 0.9160 - recall: 0.9089 - auc: 0.9923 - val_loss: 0.2255 - val_accuracy: 0.9141 - val_precision: 0.9151 - val_recall: 0.9128 - val_auc: 0.9941\n"
     ]
    }
   ],
   "source": [
    "result=model.fit(\n",
    "    train_images,\n",
    "    steps_per_epoch=3072//32,\n",
    "    validation_data=val_images,\n",
    "    validation_steps=768//32,\n",
    "    epochs=10,\n",
    "    callbacks=[checkpoint]\n",
    ")"
   ]
  },
  {
   "cell_type": "code",
   "execution_count": 27,
   "metadata": {},
   "outputs": [
    {
     "name": "stdout",
     "output_type": "stream",
     "text": [
      "     Test Loss: 0.2228\n",
      " Test Accuracy: 93.0208%\n",
      "Test Precision: 93.3893%\n",
      "   Test Recall: 92.7083%\n",
      "      Test AUC: 0.9942\n"
     ]
    }
   ],
   "source": [
    "from keras.models import load_model\n",
    "best_model = load_model('best_model.h5')\n",
    "results = best_model.evaluate(test_images, verbose=0)\n",
    "\n",
    "print(\"     Test Loss: {:.4f}\".format(results[0]))\n",
    "print(\" Test Accuracy: {:.4f}%\".format(results[1] * 100))\n",
    "print(\"Test Precision: {:.4f}%\".format(results[2] * 100))\n",
    "print(\"   Test Recall: {:.4f}%\".format(results[3] * 100))\n",
    "print(\"      Test AUC: {:.4f}\".format(results[4] ))"
   ]
  },
  {
   "cell_type": "code",
   "execution_count": 28,
   "metadata": {},
   "outputs": [
    {
     "data": {
      "image/png": "[encoded data removed]",
      "text/plain": [
       "<Figure size 432x288 with 1 Axes>"
      ]
     },
     "metadata": {
      "needs_background": "light"
     },
     "output_type": "display_data"
    }
   ],
   "source": [
    "import matplotlib.pyplot as plt\n",
    "\n",
    "plt.plot(result.history['loss'])\n",
    "plt.plot(result.history['val_loss'])\n",
    "plt.legend(['Training', 'Validation'])\n",
    "plt.title('Training and Validation losses')\n",
    "plt.xlabel('epoch')\n",
    "plt.ylabel('loss')\n",
    "plt.savefig( 'loss.jpg', dpi=500, bbox_inches = 'tight')"
   ]
  },
  {
   "cell_type": "code",
   "execution_count": 29,
   "metadata": {},
   "outputs": [
    {
     "data": {
      "image/png": "[encoded data removed]",
      "text/plain": [
       "<Figure size 432x288 with 1 Axes>"
      ]
     },
     "metadata": {
      "needs_background": "light"
     },
     "output_type": "display_data"
    }
   ],
   "source": [
    "plt.plot(result.history['accuracy'])\n",
    "plt.plot(result.history['val_accuracy'])\n",
    "plt.legend(['Training', 'Validation'])\n",
    "plt.title('Training and Validation accuracy')\n",
    "plt.xlabel('epoch')\n",
    "plt.ylabel('accuracy')\n",
    "plt.savefig( 'accuracy.jpg', dpi=500, bbox_inches = 'tight')"
   ]
  },
  {
   "cell_type": "code",
   "execution_count": 30,
   "metadata": {},
   "outputs": [
    {
     "name": "stdout",
     "output_type": "stream",
     "text": [
      "30/30 [==============================] - 92s 3s/step\n"
     ]
    },
    {
     "data": {
      "text/plain": [
       "array([[8.30284876e-07, 9.82797861e-01, 7.65895835e-20, 8.48581622e-12,\n",
       "        1.72002781e-02, 1.03878199e-06],\n",
       "       [9.00188684e-01, 5.96629025e-06, 3.25436758e-07, 3.27123958e-03,\n",
       "        1.98538671e-03, 9.45484787e-02],\n",
       "       [3.69314861e-04, 2.05490833e-11, 2.09984351e-02, 9.76051927e-01,\n",
       "        7.52378284e-08, 2.58020731e-03],\n",
       "       ...,\n",
       "       [8.79093766e-01, 2.11739871e-06, 3.08692279e-06, 1.04361065e-02,\n",
       "        9.83021571e-04, 1.09481931e-01],\n",
       "       [3.72407271e-07, 9.84328628e-01, 5.40897118e-21, 2.31024965e-12,\n",
       "        1.56702939e-02, 7.71503039e-07],\n",
       "       [1.01694150e-06, 1.13924767e-15, 9.45597827e-01, 5.43995723e-02,\n",
       "        3.73222850e-12, 1.58359626e-06]], dtype=float32)"
      ]
     },
     "execution_count": 30,
     "metadata": {},
     "output_type": "execute_result"
    }
   ],
   "source": [
    "y_pred = best_model.predict(test_images)\n",
    "y_pred"
   ]
  },
  {
   "cell_type": "code",
   "execution_count": 31,
   "metadata": {},
   "outputs": [
    {
     "data": {
      "text/plain": [
       "array([1, 0, 3, 3, 3, 1, 5, 1, 2, 2, 5, 3, 1, 2, 4, 4, 2, 4, 5, 2, 1, 3,\n",
       "       4, 2, 4, 4, 4, 3, 2, 5, 3, 1, 2, 3, 2, 3, 4, 5, 4, 5, 0, 5, 4, 3,\n",
       "       1, 4, 1, 4, 1, 0, 2, 2, 0, 3, 2, 0, 5, 0, 4, 0, 3, 5, 2, 5, 3, 0,\n",
       "       5, 3, 1, 5, 1, 5, 5, 0, 5, 3, 0, 2, 0, 2, 0, 0, 4, 3, 2, 5, 2, 4,\n",
       "       5, 5, 4, 5, 0, 1, 4, 2, 4, 1, 4, 2, 5, 2, 4, 5, 4, 4, 1, 0, 1, 4,\n",
       "       2, 4, 4, 5, 2, 2, 2, 3, 3, 3, 0, 2, 4, 0, 1, 3, 4, 1, 4, 5, 4, 5,\n",
       "       2, 4, 2, 0, 3, 3, 2, 0, 1, 2, 1, 3, 0, 0, 4, 3, 2, 1, 5, 3, 0, 4,\n",
       "       1, 2, 4, 3, 0, 3, 3, 5, 5, 3, 1, 1, 4, 0, 3, 0, 5, 4, 1, 1, 0, 5,\n",
       "       2, 5, 0, 2, 5, 0, 1, 3, 4, 4, 4, 1, 4, 2, 1, 4, 3, 4, 4, 4, 0, 0,\n",
       "       5, 1, 5, 0, 5, 0, 1, 2, 0, 2, 4, 0, 0, 3, 0, 4, 2, 4, 1, 0, 5, 0,\n",
       "       0, 0, 3, 2, 1, 2, 0, 3, 2, 4, 1, 2, 4, 0, 5, 2, 5, 0, 4, 1, 3, 2,\n",
       "       4, 4, 0, 5, 0, 3, 2, 3, 2, 4, 2, 3, 4, 4, 3, 3, 0, 5, 4, 0, 2, 1,\n",
       "       5, 1, 3, 2, 5, 5, 1, 0, 2, 5, 0, 2, 0, 1, 4, 5, 4, 4, 0, 0, 2, 3,\n",
       "       3, 2, 0, 5, 4, 3, 1, 2, 1, 0, 1, 0, 5, 2, 3, 2, 0, 4, 5, 4, 5, 1,\n",
       "       4, 4, 1, 1, 1, 1, 5, 0, 5, 0, 5, 1, 5, 1, 1, 2, 2, 0, 2, 0, 3, 2,\n",
       "       5, 5, 2, 1, 1, 0, 0, 2, 2, 4, 0, 2, 3, 0, 2, 4, 2, 3, 0, 5, 5, 0,\n",
       "       3, 0, 5, 2, 2, 3, 4, 4, 2, 1, 4, 5, 2, 4, 0, 2, 3, 3, 4, 5, 4, 2,\n",
       "       4, 3, 4, 0, 2, 4, 1, 4, 3, 4, 0, 4, 5, 1, 0, 5, 1, 1, 2, 3, 0, 0,\n",
       "       1, 3, 0, 5, 2, 5, 4, 2, 0, 5, 3, 4, 3, 2, 2, 1, 4, 4, 4, 4, 2, 0,\n",
       "       4, 4, 0, 3, 2, 3, 4, 2, 2, 4, 5, 2, 4, 2, 1, 0, 0, 4, 4, 3, 2, 3,\n",
       "       5, 5, 3, 1, 1, 2, 1, 3, 3, 1, 1, 3, 2, 4, 0, 2, 4, 1, 2, 5, 3, 3,\n",
       "       1, 4, 0, 2, 1, 4, 3, 4, 5, 4, 5, 2, 5, 3, 2, 3, 0, 3, 5, 5, 1, 2,\n",
       "       2, 2, 2, 2, 5, 3, 4, 3, 3, 4, 4, 2, 4, 4, 1, 3, 4, 0, 5, 5, 2, 3,\n",
       "       5, 3, 5, 4, 5, 0, 3, 4, 3, 0, 1, 3, 2, 3, 5, 3, 1, 2, 4, 5, 5, 0,\n",
       "       4, 0, 4, 0, 4, 0, 3, 1, 0, 5, 3, 5, 4, 0, 2, 2, 3, 1, 3, 0, 4, 5,\n",
       "       4, 5, 1, 5, 3, 4, 3, 2, 0, 0, 5, 5, 1, 3, 5, 4, 0, 1, 2, 1, 4, 0,\n",
       "       3, 5, 3, 4, 0, 2, 1, 3, 2, 4, 2, 2, 0, 2, 2, 2, 3, 3, 3, 5, 3, 0,\n",
       "       1, 5, 4, 3, 0, 1, 0, 0, 0, 2, 4, 1, 2, 5, 0, 0, 0, 4, 2, 0, 2, 5,\n",
       "       5, 5, 4, 3, 3, 4, 3, 4, 4, 0, 3, 0, 3, 1, 3, 5, 0, 3, 4, 2, 0, 5,\n",
       "       4, 4, 3, 2, 5, 0, 0, 0, 1, 3, 2, 3, 1, 5, 1, 3, 4, 2, 2, 2, 0, 1,\n",
       "       0, 3, 1, 1, 5, 1, 4, 1, 1, 0, 3, 3, 4, 0, 3, 1, 1, 2, 1, 5, 1, 3,\n",
       "       4, 4, 0, 0, 5, 2, 0, 4, 0, 0, 1, 4, 2, 4, 3, 0, 2, 3, 0, 0, 4, 1,\n",
       "       5, 3, 4, 1, 2, 2, 2, 1, 3, 1, 5, 0, 5, 5, 2, 5, 2, 2, 3, 1, 2, 1,\n",
       "       4, 2, 5, 0, 0, 2, 0, 0, 4, 5, 3, 5, 2, 3, 3, 5, 3, 3, 4, 1, 4, 5,\n",
       "       3, 3, 0, 1, 0, 4, 1, 0, 1, 2, 3, 3, 4, 3, 2, 5, 4, 4, 4, 5, 1, 5,\n",
       "       0, 0, 0, 4, 1, 3, 4, 5, 1, 1, 0, 0, 4, 5, 5, 5, 1, 5, 2, 1, 3, 0,\n",
       "       5, 1, 3, 4, 1, 3, 0, 4, 1, 5, 4, 5, 2, 3, 3, 5, 5, 5, 1, 2, 3, 4,\n",
       "       3, 4, 2, 0, 2, 1, 2, 1, 0, 4, 5, 0, 4, 5, 0, 5, 0, 3, 2, 4, 2, 1,\n",
       "       0, 2, 0, 5, 0, 3, 5, 4, 3, 1, 0, 0, 3, 3, 4, 2, 0, 1, 1, 5, 3, 1,\n",
       "       4, 2, 4, 4, 0, 4, 3, 1, 4, 1, 5, 0, 2, 3, 3, 1, 2, 4, 4, 2, 5, 4,\n",
       "       1, 3, 4, 3, 2, 1, 2, 2, 3, 4, 0, 5, 3, 0, 2, 5, 2, 5, 4, 5, 0, 5,\n",
       "       3, 3, 2, 5, 3, 3, 3, 0, 4, 4, 1, 1, 1, 0, 5, 4, 5, 0, 1, 2, 3, 2,\n",
       "       2, 0, 3, 5, 4, 1, 0, 5, 3, 0, 4, 5, 1, 0, 3, 0, 3, 4, 1, 1, 4, 3,\n",
       "       0, 4, 5, 2, 2, 0, 4, 4, 0, 4, 2, 0, 1, 2], dtype=int64)"
      ]
     },
     "execution_count": 31,
     "metadata": {},
     "output_type": "execute_result"
    }
   ],
   "source": [
    "y_pred = np.argmax(y_pred, axis=1)\n",
    "y_pred"
   ]
  },
  {
   "cell_type": "code",
   "execution_count": 32,
   "metadata": {},
   "outputs": [
    {
     "name": "stdout",
     "output_type": "stream",
     "text": [
      "[[149   0   0   1   0  10]\n",
      " [  0 135   0   0  25   0]\n",
      " [  0   0 160   0   0   0]\n",
      " [  0   0   4 156   0   0]\n",
      " [  3   2   0   0 155   0]\n",
      " [ 17   0   0   5   0 138]]\n",
      "              precision    recall  f1-score   support\n",
      "\n",
      "           F     0.8817    0.9313    0.9058       160\n",
      "           M     0.9854    0.8438    0.9091       160\n",
      "           N     0.9756    1.0000    0.9877       160\n",
      "           Q     0.9630    0.9750    0.9689       160\n",
      "           S     0.8611    0.9688    0.9118       160\n",
      "           V     0.9324    0.8625    0.8961       160\n",
      "\n",
      "    accuracy                         0.9302       960\n",
      "   macro avg     0.9332    0.9302    0.9299       960\n",
      "weighted avg     0.9332    0.9302    0.9299       960\n",
      "\n"
     ]
    }
   ],
   "source": [
    "from sklearn.metrics import confusion_matrix, classification_report\n",
    "\n",
    "\n",
    "cm = confusion_matrix(test_images.labels, y_pred)\n",
    "print(cm)\n",
    "\n",
    "report = classification_report(test_images.labels, y_pred, target_names=['F', 'M', 'N', 'Q', 'S', 'V'],digits=4)\n",
    "print(report )\n",
    "\n",
    "def report_to_df(report):\n",
    "    report = [x.split(' ') for x in report.split('\\n')]\n",
    "    header = ['Class Name']+[x for x in report[0] if x!='']\n",
    "    values = []\n",
    "    for row in report[1:-5]:\n",
    "        row = [value for value in row if value!='']\n",
    "        if row!=[]:\n",
    "            values.append(row)\n",
    "    df = pd.DataFrame(data = values, columns = header)\n",
    "    return df\n",
    "report = report_to_df(report)\n",
    "\n",
    "report.to_csv('classification report.csv', index=True)"
   ]
  }
 ],
 "metadata": {
  "kernelspec": {
   "display_name": "Python 3",
   "language": "python",
   "name": "python3"
  },
  "language_info": {
   "codemirror_mode": {
    "name": "ipython",
    "version": 3
   },
   "file_extension": ".py",
   "mimetype": "text/x-python",
   "name": "python",
   "nbconvert_exporter": "python",
   "pygments_lexer": "ipython3",
   "version": "3.10.6"
  },
  "orig_nbformat": 4
 },
 "nbformat": 4,
 "nbformat_minor": 2
}
