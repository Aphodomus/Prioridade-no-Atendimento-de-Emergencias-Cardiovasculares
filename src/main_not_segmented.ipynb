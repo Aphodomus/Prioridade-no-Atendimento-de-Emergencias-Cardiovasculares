{
 "cells": [
  {
   "attachments": {},
   "cell_type": "markdown",
   "metadata": {},
   "source": [
    "# Segmentation and Classification of Mammographic Images"
   ]
  },
  {
   "cell_type": "code",
   "execution_count": 1,
   "metadata": {},
   "outputs": [],
   "source": [
    "# Imports\n",
    "import pandas as pd\n",
    "import numpy as np\n",
    "import cv2\n",
    "from pathlib import Path\n",
    "import os.path\n",
    "from fastai.vision.all import *\n",
    "import matplotlib.pyplot as plt\n",
    "import os\n",
    "import tensorflow as tf\n",
    "from tensorflow.keras.optimizers import Adam\n",
    "from tensorflow.keras.losses import SparseCategoricalCrossentropy\n",
    "from tensorflow.keras.metrics import SparseCategoricalAccuracy\n",
    "from tensorflow.keras.applications.resnet50 import preprocess_input\n",
    "from tensorflow.keras.applications import ResNet50\n",
    "from tensorflow.keras.models import Sequential\n",
    "from tensorflow.keras.layers import Dense, Flatten, Dropout, Conv2D, MaxPool2D, BatchNormalization\n",
    "from tensorflow.keras.preprocessing.image import ImageDataGenerator\n",
    "from tensorflow.keras.datasets import mnist\n",
    "from tensorflow.keras.utils import to_categorical\n",
    "from tensorflow.python.keras.callbacks import EarlyStopping, ModelCheckpoint\n",
    "from time import time"
   ]
  },
  {
   "attachments": {},
   "cell_type": "markdown",
   "metadata": {},
   "source": [
    "# Benchmark CPU x GPU"
   ]
  },
  {
   "cell_type": "code",
   "execution_count": 18,
   "metadata": {},
   "outputs": [
    {
     "name": "stdout",
     "output_type": "stream",
     "text": [
      "Model: \"sequential_4\"\n",
      "_________________________________________________________________\n",
      "Layer (type)                 Output Shape              Param #   \n",
      "=================================================================\n",
      "conv2d_12 (Conv2D)           (None, 28, 28, 64)        640       \n",
      "_________________________________________________________________\n",
      "max_pooling2d_12 (MaxPooling (None, 14, 14, 64)        0         \n",
      "_________________________________________________________________\n",
      "conv2d_13 (Conv2D)           (None, 14, 14, 64)        36928     \n",
      "_________________________________________________________________\n",
      "max_pooling2d_13 (MaxPooling (None, 7, 7, 64)          0         \n",
      "_________________________________________________________________\n",
      "conv2d_14 (Conv2D)           (None, 7, 7, 64)          36928     \n",
      "_________________________________________________________________\n",
      "max_pooling2d_14 (MaxPooling (None, 3, 3, 64)          0         \n",
      "_________________________________________________________________\n",
      "flatten_4 (Flatten)          (None, 576)               0         \n",
      "_________________________________________________________________\n",
      "dense_4 (Dense)              (None, 10)                5770      \n",
      "=================================================================\n",
      "Total params: 80,266\n",
      "Trainable params: 80,266\n",
      "Non-trainable params: 0\n",
      "_________________________________________________________________\n",
      "Model: \"sequential_5\"\n",
      "_________________________________________________________________\n",
      "Layer (type)                 Output Shape              Param #   \n",
      "=================================================================\n",
      "conv2d_15 (Conv2D)           (None, 28, 28, 64)        640       \n",
      "_________________________________________________________________\n",
      "max_pooling2d_15 (MaxPooling (None, 14, 14, 64)        0         \n",
      "_________________________________________________________________\n",
      "conv2d_16 (Conv2D)           (None, 14, 14, 64)        36928     \n",
      "_________________________________________________________________\n",
      "max_pooling2d_16 (MaxPooling (None, 7, 7, 64)          0         \n",
      "_________________________________________________________________\n",
      "conv2d_17 (Conv2D)           (None, 7, 7, 64)          36928     \n",
      "_________________________________________________________________\n",
      "max_pooling2d_17 (MaxPooling (None, 3, 3, 64)          0         \n",
      "_________________________________________________________________\n",
      "flatten_5 (Flatten)          (None, 576)               0         \n",
      "_________________________________________________________________\n",
      "dense_5 (Dense)              (None, 10)                5770      \n",
      "=================================================================\n",
      "Total params: 80,266\n",
      "Trainable params: 80,266\n",
      "Non-trainable params: 0\n",
      "_________________________________________________________________\n",
      "Train on 60000 samples\n",
      "Device mapping:\n",
      "/job:localhost/replica:0/task:0/device:DML:0 -> {\"name\": \"Radeon RX 570 Series\", \"vendor_id\": 4098, \"device_id\": 26591, \"driver_version\": \"31.0.12027.9001\"}\n",
      "\n",
      "Epoch 1/8\n",
      "60000/60000 [==============================] - 29s 481us/sample - loss: 0.1700 - acc: 0.9494\n",
      "Epoch 2/8\n",
      "60000/60000 [==============================] - 23s 382us/sample - loss: 0.0474 - acc: 0.9853 - loss: 0.04\n",
      "Epoch 3/8\n",
      "60000/60000 [==============================] - 28s 468us/sample - loss: 0.0344 - acc: 0.9888\n",
      "Epoch 4/8\n",
      "60000/60000 [==============================] - 26s 429us/sample - loss: 0.0263 - acc: 0.9921\n",
      "Epoch 5/8\n",
      "60000/60000 [==============================] - 25s 420us/sample - loss: 0.0217 - acc: 0.9929\n",
      "Epoch 6/8\n",
      "60000/60000 [==============================] - 27s 442us/sample - loss: 0.0159 - acc: 0.9951\n",
      "Epoch 7/8\n",
      "60000/60000 [==============================] - 22s 367us/sample - loss: 0.0141 - acc: 0.9954\n",
      "Epoch 8/8\n",
      "60000/60000 [==============================] - 26s 425us/sample - loss: 0.0124 - acc: 0.9958\n",
      "Train on 60000 samples\n",
      "Epoch 1/8\n",
      "60000/60000 [==============================] - 12s 198us/sample - loss: 0.1818 - acc: 0.9456\n",
      "Epoch 2/8\n",
      "60000/60000 [==============================] - 11s 186us/sample - loss: 0.0485 - acc: 0.9847\n",
      "Epoch 3/8\n",
      "60000/60000 [==============================] - 11s 189us/sample - loss: 0.0341 - acc: 0.9893\n",
      "Epoch 4/8\n",
      "60000/60000 [==============================] - 12s 196us/sample - loss: 0.0256 - acc: 0.9919\n",
      "Epoch 5/8\n",
      "60000/60000 [==============================] - 12s 197us/sample - loss: 0.0217 - acc: 0.9930\n",
      "Epoch 6/8\n",
      "60000/60000 [==============================] - 12s 193us/sample - loss: 0.0180 - acc: 0.9937\n",
      "Epoch 7/8\n",
      "60000/60000 [==============================] - 12s 193us/sample - loss: 0.0138 - acc: 0.9956\n",
      "Epoch 8/8\n",
      "60000/60000 [==============================] - 11s 185us/sample - loss: 0.0120 - acc: 0.9960\n",
      "Time to train with CPU: 206.73186254501343\n",
      "Time to train with GPU: 94.10032415390015\n"
     ]
    }
   ],
   "source": [
    "# Create default model to test\n",
    "def conv_model(device, filters, kz):\n",
    "    with tf.device(device):\n",
    "        model = Sequential()\n",
    "        model.add(Conv2D(filters, kernel_size=3, padding='same', activation='relu', input_shape=(28, 28, 1)))\n",
    "        model.add(MaxPool2D(pool_size=2))\n",
    "        model.add(Conv2D(filters, kernel_size=3, padding='same', activation='relu'))\n",
    "        model.add(MaxPool2D(pool_size=2))\n",
    "        model.add(Conv2D(filters, kernel_size=3, padding='same', activation='relu'))\n",
    "        model.add(MaxPool2D(pool_size=2))\n",
    "        model.add(Flatten())\n",
    "        model.add(Dense(10, activation='softmax'))\n",
    "\n",
    "        model.compile(optimizer='adam', loss='categorical_crossentropy', metrics=['acc'])\n",
    "        model.summary()\n",
    "\n",
    "        return model\n",
    "\n",
    "# Run model and compute time\n",
    "def run(model, x_train, y_train, epochs=128, batch_size=32):\n",
    "    start = time()\n",
    "    model.fit(x_train, y_train, epochs=epochs, batch_size=batch_size)\n",
    "    end = time()\n",
    "\n",
    "    return end - start\n",
    "\n",
    "# Load dataset mnist\n",
    "(x_train, y_train), (_, _) = mnist.load_data()\n",
    "\n",
    "# Preprocessing data\n",
    "x_train = x_train / 255.0 # Normalize\n",
    "x_train = x_train.reshape(-1, 28, 28, 1) # Add the channel axis\n",
    "y_train = to_categorical(y_train, num_classes=10) # Convert to one-hot encoding\n",
    "\n",
    "# Define CPU and GPU models\n",
    "cpu_model = conv_model('CPU', 64, 3)\n",
    "gpu_model = conv_model('DML', 64, 3)\n",
    "\n",
    "# Default hiperparams\n",
    "epochs = 8\n",
    "bz = 64\n",
    "\n",
    "# Run models\n",
    "conv_cpu_time = run(cpu_model, x_train, y_train, epochs=epochs, batch_size=bz)\n",
    "conv_gpu_time = run(gpu_model, x_train, y_train, epochs=epochs, batch_size=bz)\n",
    "\n",
    "# Computation time\n",
    "print(\"Time to train with CPU:\", conv_cpu_time)\n",
    "print(\"Time to train with GPU:\", conv_gpu_time)"
   ]
  },
  {
   "attachments": {},
   "cell_type": "markdown",
   "metadata": {},
   "source": [
    "# Auxiliary Functions"
   ]
  },
  {
   "cell_type": "code",
   "execution_count": 4,
   "metadata": {},
   "outputs": [],
   "source": [
    "# Get all data from a directory and return as a dataframe\n",
    "def get_dataset(folder_path):\n",
    "    folder = Path(folder_path)\n",
    "\n",
    "    filepaths = list(folder.glob(r'**/*.png'))\n",
    "    labels = list(map(lambda x: os.path.split(os.path.split(x)[0])[1], filepaths))\n",
    "\n",
    "    filepaths = pd.Series(filepaths, name='Filepath').astype(str)\n",
    "    labels = pd.Series(labels, name='Label')\n",
    "\n",
    "    return pd.concat([filepaths, labels], axis=1)\n",
    "\n",
    "# Check if is multiple of 4\n",
    "def is_multiple_of_4(number):\n",
    "    number = number.split(\"(\")[-1].split(\")\")[0]\n",
    "    number = number.strip()\n",
    "    return int(number) % 4 == 0\n",
    "\n",
    "# Split dataframe into train and validation\n",
    "def split_train_and_validation(dataset):\n",
    "    images_train = dataset[~dataset['Filepath'].apply(is_multiple_of_4)]\n",
    "    images_validation = dataset[dataset['Filepath'].apply(is_multiple_of_4)]\n",
    "\n",
    "    print(\"Training set:\")\n",
    "    print(\"Quantity of samples:\", len(images_train))\n",
    "    print(\"Quantity of classes:\", len(images_train['Label'].unique()))\n",
    "    print()\n",
    "\n",
    "    print(\"Validation set:\")\n",
    "    print(\"Quantity of samples:\", len(images_validation))\n",
    "    print(\"Quantity of classes:\", len(images_validation['Label'].unique()))\n",
    "    \n",
    "    return images_train, images_validation\n",
    "\n",
    "# Map labels based on initial\n",
    "def map_label(label):\n",
    "    if label.startswith('D'):\n",
    "        return 'I'\n",
    "    elif label.startswith('E'):\n",
    "        return 'II'\n",
    "    elif label.startswith('F'):\n",
    "        return 'III'\n",
    "    elif label.startswith('G'):\n",
    "        return 'IV'\n",
    "    else:\n",
    "        return label\n",
    "    \n",
    "# Crop the image\n",
    "def crop_image(image):\n",
    "    # Get the dimensions of the image\n",
    "    height, width = image.shape[:2]\n",
    "\n",
    "    # Define the coordinates of the region of interest (ROI)\n",
    "    x = 15\n",
    "    y = 15\n",
    "    crop_width = width - 30\n",
    "    crop_height = height - 30\n",
    "    \n",
    "    return image[y:y+crop_height, x:x+crop_width]\n",
    "\n",
    "# Find the optimal gamma for the image\n",
    "def find_optimal_gamma(image):\n",
    "    # Calculate average of pixels\n",
    "    mean = np.mean(image)\n",
    "\n",
    "    # Return the optimal gamma number for this image\n",
    "    return np.log(mean) / np.log(512)\n",
    "\n",
    "# Identify the largest object in the image\n",
    "def biggest_object(image):\n",
    "    # Perform labeling of connected components\n",
    "    num_labels, labels, stats, centroids = cv2.connectedComponentsWithStats(image)\n",
    "\n",
    "    # Find the index of the largest object (excluding the background)\n",
    "    largest_label = np.argmax(stats[1:, cv2.CC_STAT_AREA]) + 1\n",
    "\n",
    "    # Create a mask only for the largest object\n",
    "    return np.uint8(labels == largest_label) * 255\n",
    "\n",
    "# Segment a image\n",
    "def segment_image(image):\n",
    "    # Crop image, removing 15 pixels from the edges\n",
    "    cropped = crop_image(image)\n",
    "    \n",
    "    # Set the ideal gamma\n",
    "    gamma = find_optimal_gamma(image)\n",
    "    \n",
    "    # Apply gamma and Otsu transformation if necessary, otherwise apply only Threhold Binary\n",
    "    if gamma >= 0.6:\n",
    "        gamma_corrected = np.power(cropped / 255.0, gamma)\n",
    "        image_filtered = np.uint8(gamma_corrected * 255)\n",
    "        _, result = cv2.threshold(image_filtered, 0, 255, cv2.THRESH_BINARY + cv2.THRESH_OTSU)\n",
    "    else:\n",
    "        image_filtered = cropped\n",
    "        _, result = cv2.threshold(image_filtered, 1, maxval=255, type=cv2.THRESH_BINARY)\n",
    "        \n",
    "    # Largest object in the image (breast)\n",
    "    image_biggest = biggest_object(result)\n",
    "    \n",
    "    # Match the mask of the largest object with the original cropped image\n",
    "    return cv2.bitwise_and(cropped, cropped, mask=image_biggest)\n",
    "\n",
    "# Function to display images\n",
    "def display_variations(filepaths):\n",
    "    fig, axs = plt.subplots(1, 4, figsize=(15, 5))  # Create a figure with one row and four columns\n",
    "\n",
    "    titles = [\"Original Segmented\", \"Flipped\", \"Equalized\", \"Flipped Equalized\"]\n",
    "\n",
    "    for i, filepath in enumerate(filepaths):\n",
    "        image = cv2.imread(filepath, cv2.IMREAD_GRAYSCALE)\n",
    "        axs[i].imshow(image, cmap='gray')\n",
    "        axs[i].set_title(titles[i])  # Set the title based on the titles list\n",
    "        \n",
    "    plt.tight_layout()\n",
    "    plt.show()"
   ]
  },
  {
   "attachments": {},
   "cell_type": "markdown",
   "metadata": {},
   "source": [
    "# Load Images into Dataframe"
   ]
  },
  {
   "cell_type": "code",
   "execution_count": 5,
   "metadata": {},
   "outputs": [
    {
     "data": {
      "text/html": [
       "<div>\n",
       "<style scoped>\n",
       "    .dataframe tbody tr th:only-of-type {\n",
       "        vertical-align: middle;\n",
       "    }\n",
       "\n",
       "    .dataframe tbody tr th {\n",
       "        vertical-align: top;\n",
       "    }\n",
       "\n",
       "    .dataframe thead th {\n",
       "        text-align: right;\n",
       "    }\n",
       "</style>\n",
       "<table border=\"1\" class=\"dataframe\">\n",
       "  <thead>\n",
       "    <tr style=\"text-align: right;\">\n",
       "      <th></th>\n",
       "      <th>Filepath</th>\n",
       "      <th>Label</th>\n",
       "    </tr>\n",
       "  </thead>\n",
       "  <tbody>\n",
       "    <tr>\n",
       "      <th>0</th>\n",
       "      <td>images\\DleftCC\\d_left_cc (1).png</td>\n",
       "      <td>DleftCC</td>\n",
       "    </tr>\n",
       "    <tr>\n",
       "      <th>1</th>\n",
       "      <td>images\\DleftCC\\d_left_cc (10).png</td>\n",
       "      <td>DleftCC</td>\n",
       "    </tr>\n",
       "    <tr>\n",
       "      <th>2</th>\n",
       "      <td>images\\DleftCC\\d_left_cc (100).png</td>\n",
       "      <td>DleftCC</td>\n",
       "    </tr>\n",
       "    <tr>\n",
       "      <th>3</th>\n",
       "      <td>images\\DleftCC\\d_left_cc (101).png</td>\n",
       "      <td>DleftCC</td>\n",
       "    </tr>\n",
       "    <tr>\n",
       "      <th>4</th>\n",
       "      <td>images\\DleftCC\\d_left_cc (102).png</td>\n",
       "      <td>DleftCC</td>\n",
       "    </tr>\n",
       "    <tr>\n",
       "      <th>...</th>\n",
       "      <td>...</td>\n",
       "      <td>...</td>\n",
       "    </tr>\n",
       "    <tr>\n",
       "      <th>5019</th>\n",
       "      <td>images\\GrightMLO\\g_right_mlo (95).png</td>\n",
       "      <td>GrightMLO</td>\n",
       "    </tr>\n",
       "    <tr>\n",
       "      <th>5020</th>\n",
       "      <td>images\\GrightMLO\\g_right_mlo (96).png</td>\n",
       "      <td>GrightMLO</td>\n",
       "    </tr>\n",
       "    <tr>\n",
       "      <th>5021</th>\n",
       "      <td>images\\GrightMLO\\g_right_mlo (97).png</td>\n",
       "      <td>GrightMLO</td>\n",
       "    </tr>\n",
       "    <tr>\n",
       "      <th>5022</th>\n",
       "      <td>images\\GrightMLO\\g_right_mlo (98).png</td>\n",
       "      <td>GrightMLO</td>\n",
       "    </tr>\n",
       "    <tr>\n",
       "      <th>5023</th>\n",
       "      <td>images\\GrightMLO\\g_right_mlo (99).png</td>\n",
       "      <td>GrightMLO</td>\n",
       "    </tr>\n",
       "  </tbody>\n",
       "</table>\n",
       "<p>5024 rows × 2 columns</p>\n",
       "</div>"
      ],
      "text/plain": [
       "                                   Filepath      Label\n",
       "0          images\\DleftCC\\d_left_cc (1).png    DleftCC\n",
       "1         images\\DleftCC\\d_left_cc (10).png    DleftCC\n",
       "2        images\\DleftCC\\d_left_cc (100).png    DleftCC\n",
       "3        images\\DleftCC\\d_left_cc (101).png    DleftCC\n",
       "4        images\\DleftCC\\d_left_cc (102).png    DleftCC\n",
       "...                                     ...        ...\n",
       "5019  images\\GrightMLO\\g_right_mlo (95).png  GrightMLO\n",
       "5020  images\\GrightMLO\\g_right_mlo (96).png  GrightMLO\n",
       "5021  images\\GrightMLO\\g_right_mlo (97).png  GrightMLO\n",
       "5022  images\\GrightMLO\\g_right_mlo (98).png  GrightMLO\n",
       "5023  images\\GrightMLO\\g_right_mlo (99).png  GrightMLO\n",
       "\n",
       "[5024 rows x 2 columns]"
      ]
     },
     "execution_count": 5,
     "metadata": {},
     "output_type": "execute_result"
    }
   ],
   "source": [
    "# Read images from directory\n",
    "folder_path = './images/'\n",
    "dataset = get_dataset(folder_path)\n",
    "dataset"
   ]
  },
  {
   "attachments": {},
   "cell_type": "markdown",
   "metadata": {},
   "source": [
    "# Change Label"
   ]
  },
  {
   "cell_type": "code",
   "execution_count": 6,
   "metadata": {},
   "outputs": [
    {
     "data": {
      "text/html": [
       "<div>\n",
       "<style scoped>\n",
       "    .dataframe tbody tr th:only-of-type {\n",
       "        vertical-align: middle;\n",
       "    }\n",
       "\n",
       "    .dataframe tbody tr th {\n",
       "        vertical-align: top;\n",
       "    }\n",
       "\n",
       "    .dataframe thead th {\n",
       "        text-align: right;\n",
       "    }\n",
       "</style>\n",
       "<table border=\"1\" class=\"dataframe\">\n",
       "  <thead>\n",
       "    <tr style=\"text-align: right;\">\n",
       "      <th></th>\n",
       "      <th>Filepath</th>\n",
       "      <th>Label</th>\n",
       "    </tr>\n",
       "  </thead>\n",
       "  <tbody>\n",
       "    <tr>\n",
       "      <th>0</th>\n",
       "      <td>images\\DleftCC\\d_left_cc (1).png</td>\n",
       "      <td>I</td>\n",
       "    </tr>\n",
       "    <tr>\n",
       "      <th>1</th>\n",
       "      <td>images\\DleftCC\\d_left_cc (10).png</td>\n",
       "      <td>I</td>\n",
       "    </tr>\n",
       "    <tr>\n",
       "      <th>2</th>\n",
       "      <td>images\\DleftCC\\d_left_cc (100).png</td>\n",
       "      <td>I</td>\n",
       "    </tr>\n",
       "    <tr>\n",
       "      <th>3</th>\n",
       "      <td>images\\DleftCC\\d_left_cc (101).png</td>\n",
       "      <td>I</td>\n",
       "    </tr>\n",
       "    <tr>\n",
       "      <th>4</th>\n",
       "      <td>images\\DleftCC\\d_left_cc (102).png</td>\n",
       "      <td>I</td>\n",
       "    </tr>\n",
       "    <tr>\n",
       "      <th>...</th>\n",
       "      <td>...</td>\n",
       "      <td>...</td>\n",
       "    </tr>\n",
       "    <tr>\n",
       "      <th>5019</th>\n",
       "      <td>images\\GrightMLO\\g_right_mlo (95).png</td>\n",
       "      <td>IV</td>\n",
       "    </tr>\n",
       "    <tr>\n",
       "      <th>5020</th>\n",
       "      <td>images\\GrightMLO\\g_right_mlo (96).png</td>\n",
       "      <td>IV</td>\n",
       "    </tr>\n",
       "    <tr>\n",
       "      <th>5021</th>\n",
       "      <td>images\\GrightMLO\\g_right_mlo (97).png</td>\n",
       "      <td>IV</td>\n",
       "    </tr>\n",
       "    <tr>\n",
       "      <th>5022</th>\n",
       "      <td>images\\GrightMLO\\g_right_mlo (98).png</td>\n",
       "      <td>IV</td>\n",
       "    </tr>\n",
       "    <tr>\n",
       "      <th>5023</th>\n",
       "      <td>images\\GrightMLO\\g_right_mlo (99).png</td>\n",
       "      <td>IV</td>\n",
       "    </tr>\n",
       "  </tbody>\n",
       "</table>\n",
       "<p>5024 rows × 2 columns</p>\n",
       "</div>"
      ],
      "text/plain": [
       "                                   Filepath Label\n",
       "0          images\\DleftCC\\d_left_cc (1).png     I\n",
       "1         images\\DleftCC\\d_left_cc (10).png     I\n",
       "2        images\\DleftCC\\d_left_cc (100).png     I\n",
       "3        images\\DleftCC\\d_left_cc (101).png     I\n",
       "4        images\\DleftCC\\d_left_cc (102).png     I\n",
       "...                                     ...   ...\n",
       "5019  images\\GrightMLO\\g_right_mlo (95).png    IV\n",
       "5020  images\\GrightMLO\\g_right_mlo (96).png    IV\n",
       "5021  images\\GrightMLO\\g_right_mlo (97).png    IV\n",
       "5022  images\\GrightMLO\\g_right_mlo (98).png    IV\n",
       "5023  images\\GrightMLO\\g_right_mlo (99).png    IV\n",
       "\n",
       "[5024 rows x 2 columns]"
      ]
     },
     "execution_count": 6,
     "metadata": {},
     "output_type": "execute_result"
    }
   ],
   "source": [
    "# Apply the function to the values ​​of \"Label\"\n",
    "dataset['Label'] = dataset['Label'].apply(map_label)\n",
    "dataset"
   ]
  },
  {
   "cell_type": "code",
   "execution_count": 7,
   "metadata": {},
   "outputs": [
    {
     "data": {
      "text/plain": [
       "I      1256\n",
       "II     1256\n",
       "III    1256\n",
       "IV     1256\n",
       "Name: Label, dtype: int64"
      ]
     },
     "execution_count": 7,
     "metadata": {},
     "output_type": "execute_result"
    }
   ],
   "source": [
    "# Disinct labels and count\n",
    "dataset['Label'].value_counts()"
   ]
  },
  {
   "attachments": {},
   "cell_type": "markdown",
   "metadata": {},
   "source": [
    "# Split Train and Validation"
   ]
  },
  {
   "cell_type": "code",
   "execution_count": 2,
   "metadata": {},
   "outputs": [],
   "source": [
    "def get_train():\n",
    "    dir = Path('../images/train')\n",
    "\n",
    "    filepaths = list(dir.glob(r'**/*.png'))\n",
    "    labels = list(map(lambda x: os.path.split(os.path.split(x)[0])[1], filepaths))\n",
    "\n",
    "\n",
    "    filepaths = pd.Series(filepaths, name='Filepath').astype(str)\n",
    "    labels = pd.Series(labels, name='Label')\n",
    "\n",
    "    return pd.concat([filepaths , labels] , axis=1)\n",
    "\n",
    "def get_test():\n",
    "    dir = Path('../images/test')\n",
    "\n",
    "    filepaths = list(dir.glob(r'**/*.png'))\n",
    "    labels = list(map(lambda x: os.path.split(os.path.split(x)[0])[1], filepaths))\n",
    "\n",
    "\n",
    "    filepaths = pd.Series(filepaths, name='Filepath').astype(str)\n",
    "    labels = pd.Series(labels, name='Label')\n",
    "\n",
    "    return pd.concat([filepaths , labels] , axis=1)"
   ]
  },
  {
   "cell_type": "code",
   "execution_count": 3,
   "metadata": {},
   "outputs": [],
   "source": [
    "train = get_train()\n",
    "test = get_test()"
   ]
  },
  {
   "cell_type": "code",
   "execution_count": 4,
   "metadata": {},
   "outputs": [
    {
     "data": {
      "text/html": [
       "<div>\n",
       "<style scoped>\n",
       "    .dataframe tbody tr th:only-of-type {\n",
       "        vertical-align: middle;\n",
       "    }\n",
       "\n",
       "    .dataframe tbody tr th {\n",
       "        vertical-align: top;\n",
       "    }\n",
       "\n",
       "    .dataframe thead th {\n",
       "        text-align: right;\n",
       "    }\n",
       "</style>\n",
       "<table border=\"1\" class=\"dataframe\">\n",
       "  <thead>\n",
       "    <tr style=\"text-align: right;\">\n",
       "      <th></th>\n",
       "      <th>Filepath</th>\n",
       "      <th>Label</th>\n",
       "    </tr>\n",
       "  </thead>\n",
       "  <tbody>\n",
       "    <tr>\n",
       "      <th>0</th>\n",
       "      <td>..\\images\\train\\F\\F1.png</td>\n",
       "      <td>F</td>\n",
       "    </tr>\n",
       "    <tr>\n",
       "      <th>1</th>\n",
       "      <td>..\\images\\train\\F\\F10.png</td>\n",
       "      <td>F</td>\n",
       "    </tr>\n",
       "    <tr>\n",
       "      <th>2</th>\n",
       "      <td>..\\images\\train\\F\\F100.png</td>\n",
       "      <td>F</td>\n",
       "    </tr>\n",
       "    <tr>\n",
       "      <th>3</th>\n",
       "      <td>..\\images\\train\\F\\F101.png</td>\n",
       "      <td>F</td>\n",
       "    </tr>\n",
       "    <tr>\n",
       "      <th>4</th>\n",
       "      <td>..\\images\\train\\F\\F102.png</td>\n",
       "      <td>F</td>\n",
       "    </tr>\n",
       "    <tr>\n",
       "      <th>...</th>\n",
       "      <td>...</td>\n",
       "      <td>...</td>\n",
       "    </tr>\n",
       "    <tr>\n",
       "      <th>99194</th>\n",
       "      <td>..\\images\\train\\V\\V995.png</td>\n",
       "      <td>V</td>\n",
       "    </tr>\n",
       "    <tr>\n",
       "      <th>99195</th>\n",
       "      <td>..\\images\\train\\V\\V996.png</td>\n",
       "      <td>V</td>\n",
       "    </tr>\n",
       "    <tr>\n",
       "      <th>99196</th>\n",
       "      <td>..\\images\\train\\V\\V997.png</td>\n",
       "      <td>V</td>\n",
       "    </tr>\n",
       "    <tr>\n",
       "      <th>99197</th>\n",
       "      <td>..\\images\\train\\V\\V998.png</td>\n",
       "      <td>V</td>\n",
       "    </tr>\n",
       "    <tr>\n",
       "      <th>99198</th>\n",
       "      <td>..\\images\\train\\V\\V999.png</td>\n",
       "      <td>V</td>\n",
       "    </tr>\n",
       "  </tbody>\n",
       "</table>\n",
       "<p>99199 rows × 2 columns</p>\n",
       "</div>"
      ],
      "text/plain": [
       "                         Filepath Label\n",
       "0        ..\\images\\train\\F\\F1.png     F\n",
       "1       ..\\images\\train\\F\\F10.png     F\n",
       "2      ..\\images\\train\\F\\F100.png     F\n",
       "3      ..\\images\\train\\F\\F101.png     F\n",
       "4      ..\\images\\train\\F\\F102.png     F\n",
       "...                           ...   ...\n",
       "99194  ..\\images\\train\\V\\V995.png     V\n",
       "99195  ..\\images\\train\\V\\V996.png     V\n",
       "99196  ..\\images\\train\\V\\V997.png     V\n",
       "99197  ..\\images\\train\\V\\V998.png     V\n",
       "99198  ..\\images\\train\\V\\V999.png     V\n",
       "\n",
       "[99199 rows x 2 columns]"
      ]
     },
     "execution_count": 4,
     "metadata": {},
     "output_type": "execute_result"
    }
   ],
   "source": [
    "# Split dataset segmented\n",
    "train"
   ]
  },
  {
   "cell_type": "code",
   "execution_count": 7,
   "metadata": {},
   "outputs": [
    {
     "data": {
      "text/plain": [
       "Label\n",
       "N    640\n",
       "Q    640\n",
       "S    640\n",
       "F    640\n",
       "M    640\n",
       "V    640\n",
       "Name: count, dtype: int64"
      ]
     },
     "execution_count": 7,
     "metadata": {},
     "output_type": "execute_result"
    }
   ],
   "source": [
    "# Balanceamento dos dados de treinamento\n",
    "\n",
    "samples = []\n",
    "for category in ['N','M','Q','V','S','F']:\n",
    "    category_slice = train.query(\"Label == @category\")\n",
    "    samples.append(category_slice.sample(640, random_state=1))\n",
    "\n",
    "dataframe_train = pd.concat(samples, axis=0).sample(frac=1.0, random_state=1).reset_index(drop=True)\n",
    "dataframe_train['Label'].value_counts()"
   ]
  },
  {
   "cell_type": "code",
   "execution_count": 8,
   "metadata": {},
   "outputs": [
    {
     "data": {
      "text/plain": [
       "Label\n",
       "M    160\n",
       "F    160\n",
       "Q    160\n",
       "N    160\n",
       "V    160\n",
       "S    160\n",
       "Name: count, dtype: int64"
      ]
     },
     "execution_count": 8,
     "metadata": {},
     "output_type": "execute_result"
    }
   ],
   "source": [
    "# Balanceamento dos dados de teste\n",
    "\n",
    "samples = []\n",
    "for category in ['N','M','Q','V','S','F']:\n",
    "    category_slice = test.query(\"Label == @category\")\n",
    "    samples.append(category_slice.sample(160, random_state=1))\n",
    "\n",
    "dataframe_test = pd.concat(samples, axis=0).sample(frac=1.0, random_state=1).reset_index(drop=True)\n",
    "dataframe_test['Label'].value_counts()"
   ]
  },
  {
   "cell_type": "code",
   "execution_count": 23,
   "metadata": {},
   "outputs": [
    {
     "data": {
      "text/html": [
       "<div>\n",
       "<style scoped>\n",
       "    .dataframe tbody tr th:only-of-type {\n",
       "        vertical-align: middle;\n",
       "    }\n",
       "\n",
       "    .dataframe tbody tr th {\n",
       "        vertical-align: top;\n",
       "    }\n",
       "\n",
       "    .dataframe thead th {\n",
       "        text-align: right;\n",
       "    }\n",
       "</style>\n",
       "<table border=\"1\" class=\"dataframe\">\n",
       "  <thead>\n",
       "    <tr style=\"text-align: right;\">\n",
       "      <th></th>\n",
       "      <th>Filepath</th>\n",
       "      <th>Label</th>\n",
       "    </tr>\n",
       "  </thead>\n",
       "  <tbody>\n",
       "    <tr>\n",
       "      <th>0</th>\n",
       "      <td>..\\images\\test\\M\\M933.png</td>\n",
       "      <td>M</td>\n",
       "    </tr>\n",
       "    <tr>\n",
       "      <th>1</th>\n",
       "      <td>..\\images\\test\\F\\F377.png</td>\n",
       "      <td>F</td>\n",
       "    </tr>\n",
       "    <tr>\n",
       "      <th>2</th>\n",
       "      <td>..\\images\\test\\Q\\Q6746.png</td>\n",
       "      <td>Q</td>\n",
       "    </tr>\n",
       "    <tr>\n",
       "      <th>3</th>\n",
       "      <td>..\\images\\test\\Q\\Q883.png</td>\n",
       "      <td>Q</td>\n",
       "    </tr>\n",
       "    <tr>\n",
       "      <th>4</th>\n",
       "      <td>..\\images\\test\\Q\\Q6569.png</td>\n",
       "      <td>Q</td>\n",
       "    </tr>\n",
       "    <tr>\n",
       "      <th>...</th>\n",
       "      <td>...</td>\n",
       "      <td>...</td>\n",
       "    </tr>\n",
       "    <tr>\n",
       "      <th>955</th>\n",
       "      <td>..\\images\\test\\S\\S1979.png</td>\n",
       "      <td>S</td>\n",
       "    </tr>\n",
       "    <tr>\n",
       "      <th>956</th>\n",
       "      <td>..\\images\\test\\N\\N26059.png</td>\n",
       "      <td>N</td>\n",
       "    </tr>\n",
       "    <tr>\n",
       "      <th>957</th>\n",
       "      <td>..\\images\\test\\F\\F418.png</td>\n",
       "      <td>F</td>\n",
       "    </tr>\n",
       "    <tr>\n",
       "      <th>958</th>\n",
       "      <td>..\\images\\test\\M\\M971.png</td>\n",
       "      <td>M</td>\n",
       "    </tr>\n",
       "    <tr>\n",
       "      <th>959</th>\n",
       "      <td>..\\images\\test\\N\\N84538.png</td>\n",
       "      <td>N</td>\n",
       "    </tr>\n",
       "  </tbody>\n",
       "</table>\n",
       "<p>960 rows × 2 columns</p>\n",
       "</div>"
      ],
      "text/plain": [
       "                        Filepath Label\n",
       "0      ..\\images\\test\\M\\M933.png     M\n",
       "1      ..\\images\\test\\F\\F377.png     F\n",
       "2     ..\\images\\test\\Q\\Q6746.png     Q\n",
       "3      ..\\images\\test\\Q\\Q883.png     Q\n",
       "4     ..\\images\\test\\Q\\Q6569.png     Q\n",
       "..                           ...   ...\n",
       "955   ..\\images\\test\\S\\S1979.png     S\n",
       "956  ..\\images\\test\\N\\N26059.png     N\n",
       "957    ..\\images\\test\\F\\F418.png     F\n",
       "958    ..\\images\\test\\M\\M971.png     M\n",
       "959  ..\\images\\test\\N\\N84538.png     N\n",
       "\n",
       "[960 rows x 2 columns]"
      ]
     },
     "execution_count": 23,
     "metadata": {},
     "output_type": "execute_result"
    }
   ],
   "source": [
    "dataframe_test"
   ]
  },
  {
   "cell_type": "code",
   "execution_count": 25,
   "metadata": {},
   "outputs": [
    {
     "name": "stdout",
     "output_type": "stream",
     "text": [
      "3\n"
     ]
    }
   ],
   "source": [
    "image = cv2.imread('../images/test/N/N84538.png')\n",
    "\n",
    "print(len(image.shape))"
   ]
  },
  {
   "attachments": {},
   "cell_type": "markdown",
   "metadata": {},
   "source": [
    "# Preprocessing"
   ]
  },
  {
   "cell_type": "code",
   "execution_count": 5,
   "metadata": {},
   "outputs": [],
   "source": [
    "# Transform image and apply resnet preprocess\n",
    "def rgb_to_gray(image):\n",
    "    image = cv2.cvtColor(image, cv2.COLOR_RGB2GRAY)\n",
    "    image = cv2.merge((image, image, image))\n",
    "    image = tf.keras.applications.resnet50.preprocess_input(image)\n",
    "    return image"
   ]
  },
  {
   "attachments": {},
   "cell_type": "markdown",
   "metadata": {},
   "source": [
    "# DataBlock of Images"
   ]
  },
  {
   "cell_type": "code",
   "execution_count": 9,
   "metadata": {},
   "outputs": [
    {
     "name": "stdout",
     "output_type": "stream",
     "text": [
      "Found 3072 validated image filenames belonging to 6 classes.\n",
      "Found 768 validated image filenames belonging to 6 classes.\n",
      "Found 960 validated image filenames belonging to 6 classes.\n",
      "Train classes: {'F': 0, 'M': 1, 'N': 2, 'Q': 3, 'S': 4, 'V': 5}\n",
      "Validation classes: {'F': 0, 'M': 1, 'N': 2, 'Q': 3, 'S': 4, 'V': 5}\n",
      "Test classes: {'F': 0, 'M': 1, 'N': 2, 'Q': 3, 'S': 4, 'V': 5}\n"
     ]
    }
   ],
   "source": [
    "# Image size\n",
    "image_size = 224\n",
    "\n",
    "# Datablock generator, with filter to preprocess images\n",
    "train_generator = ImageDataGenerator(\n",
    "    preprocessing_function=rgb_to_gray,\n",
    "    rescale=1./255,\n",
    "    validation_split=0.2\n",
    ")\n",
    "\n",
    "test_generator = ImageDataGenerator(\n",
    "    preprocessing_function=rgb_to_gray,\n",
    "    rescale=1./255\n",
    ")\n",
    "\n",
    "# Create datablock of train images\n",
    "train_images = train_generator.flow_from_dataframe(\n",
    "    dataframe=dataframe_train,\n",
    "    x_col=\"Filepath\",\n",
    "    y_col=\"Label\", \n",
    "    target_size=(image_size, image_size),\n",
    "    batch_size=32,\n",
    "    class_mode='categorical',\n",
    "    color_mode=\"rgb\",\n",
    "    shuffle=True,\n",
    "    seed=42,\n",
    "    subset='training'\n",
    ")\n",
    "\n",
    "# Create datablock of validation images\n",
    "validation_images = train_generator.flow_from_dataframe(\n",
    "    dataframe=dataframe_train,\n",
    "    x_col=\"Filepath\",\n",
    "    y_col=\"Label\", \n",
    "    target_size=(image_size, image_size),\n",
    "    batch_size=32,\n",
    "    class_mode=\"categorical\",\n",
    "    color_mode=\"rgb\",\n",
    "    shuffle=True,\n",
    "    seed=42,\n",
    "    subset='validation'\n",
    ")\n",
    "\n",
    "# Create datablock of test images\n",
    "test_images = test_generator.flow_from_dataframe(\n",
    "    dataframe=dataframe_test,\n",
    "    x_col=\"Filepath\",\n",
    "    y_col=\"Label\", \n",
    "    target_size=(image_size, image_size),\n",
    "    batch_size=32,\n",
    "    class_mode=\"categorical\",\n",
    "    color_mode=\"rgb\",\n",
    "    shuffle=False,\n",
    ")\n",
    "\n",
    "# Print classes\n",
    "print(\"Train classes:\", train_images.class_indices)\n",
    "print(\"Validation classes:\", validation_images.class_indices)\n",
    "print(\"Test classes:\", test_images.class_indices)"
   ]
  },
  {
   "cell_type": "code",
   "execution_count": 10,
   "metadata": {},
   "outputs": [
    {
     "name": "stderr",
     "output_type": "stream",
     "text": [
      "Clipping input data to the valid range for imshow with RGB data ([0..1] for floats or [0..255] for integers).\n"
     ]
    },
    {
     "data": {
      "text/plain": [
       "<matplotlib.image.AxesImage at 0x1bf0759b790>"
      ]
     },
     "execution_count": 10,
     "metadata": {},
     "output_type": "execute_result"
    },
    {
     "data": {
      "image/png": "[encoded data removed]",
      "text/plain": [
       "<Figure size 432x288 with 1 Axes>"
      ]
     },
     "metadata": {
      "needs_background": "light"
     },
     "output_type": "display_data"
    }
   ],
   "source": [
    "plt.imshow(test_images[0][0][0], cmap='gray')"
   ]
  },
  {
   "attachments": {},
   "cell_type": "markdown",
   "metadata": {},
   "source": [
    "# Create ResNet50 Model (GPU)"
   ]
  },
  {
   "cell_type": "code",
   "execution_count": 20,
   "metadata": {},
   "outputs": [
    {
     "name": "stdout",
     "output_type": "stream",
     "text": [
      "Model: \"sequential_4\"\n",
      "_________________________________________________________________\n",
      " Layer (type)                Output Shape              Param #   \n",
      "=================================================================\n",
      " resnet50 (Functional)       (None, 2048)              23587712  \n",
      "                                                                 \n",
      " dropout_16 (Dropout)        (None, 2048)              0         \n",
      "                                                                 \n",
      " flatten_4 (Flatten)         (None, 2048)              0         \n",
      "                                                                 \n",
      " dense_16 (Dense)            (None, 256)               524544    \n",
      "                                                                 \n",
      " dropout_17 (Dropout)        (None, 256)               0         \n",
      "                                                                 \n",
      " batch_normalization_12 (Bat  (None, 256)              1024      \n",
      " chNormalization)                                                \n",
      "                                                                 \n",
      " dense_17 (Dense)            (None, 256)               65792     \n",
      "                                                                 \n",
      " dropout_18 (Dropout)        (None, 256)               0         \n",
      "                                                                 \n",
      " batch_normalization_13 (Bat  (None, 256)              1024      \n",
      " chNormalization)                                                \n",
      "                                                                 \n",
      " dense_18 (Dense)            (None, 256)               65792     \n",
      "                                                                 \n",
      " dropout_19 (Dropout)        (None, 256)               0         \n",
      "                                                                 \n",
      " batch_normalization_14 (Bat  (None, 256)              1024      \n",
      " chNormalization)                                                \n",
      "                                                                 \n",
      " dense_19 (Dense)            (None, 6)                 1542      \n",
      "                                                                 \n",
      "=================================================================\n",
      "Total params: 24,248,454\n",
      "Trainable params: 659,206\n",
      "Non-trainable params: 23,589,248\n",
      "_________________________________________________________________\n"
     ]
    }
   ],
   "source": [
    "# Create the neural network model\n",
    "def convolutional_model(base_model, device):\n",
    "    with tf.device(device):\n",
    "        model = Sequential()\n",
    "        model.add(base_model)\n",
    "        model.add(Dropout(0.5))\n",
    "        model.add(Flatten())\n",
    "        model.add(Dense(256, activation='relu'))\n",
    "        model.add(Dropout(0.5))\n",
    "        model.add(BatchNormalization())\n",
    "        model.add(Dense(256, activation='relu'))\n",
    "        model.add(Dropout(0.5))\n",
    "        model.add(BatchNormalization())\n",
    "        model.add(Dense(256, activation='relu'))\n",
    "        model.add(Dropout(0.5))\n",
    "        model.add(BatchNormalization())\n",
    "        model.add(Dense(6, activation='softmax'))  # Add a dense layer with 4 units and softmax activation\n",
    "\n",
    "        # Print a summary of the model architecture\n",
    "        model.summary()\n",
    "\n",
    "        # Compile the model\n",
    "        model.compile(optimizer='adam', loss='categorical_crossentropy', metrics=['acc'])\n",
    "\n",
    "        return model\n",
    "    \n",
    "# Load the ResNet50 model without the fully connected layers\n",
    "base_model = ResNet50(weights='imagenet', pooling='avg', include_top=False, input_shape=(224, 224, 3))\n",
    "\n",
    "# Freeze the weights of the base model to avoid training during fine-tuning\n",
    "base_model.trainable = False\n",
    "\n",
    "# Create ResNet50 model using AMD GPU\n",
    "resnet50_model = convolutional_model(base_model, 'CPU')"
   ]
  },
  {
   "attachments": {},
   "cell_type": "markdown",
   "metadata": {},
   "source": [
    "# Model Callbacks"
   ]
  },
  {
   "cell_type": "code",
   "execution_count": 21,
   "metadata": {},
   "outputs": [],
   "source": [
    "# Save best model and create early stop\n",
    "cb_checkpointer = ModelCheckpoint(filepath='./best_not_segmented.hdf5', save_weights_only=False, monitor='val_acc', save_best_only=True, mode='max', verbose=1)"
   ]
  },
  {
   "attachments": {},
   "cell_type": "markdown",
   "metadata": {},
   "source": [
    "# Fit Model"
   ]
  },
  {
   "cell_type": "code",
   "execution_count": 22,
   "metadata": {},
   "outputs": [
    {
     "name": "stdout",
     "output_type": "stream",
     "text": [
      "Epoch 1/30\n",
      "96/96 [==============================] - ETA: 0s - loss: 2.3828 - acc: 0.1624\n",
      "Epoch 00001: val_acc improved from -inf to 0.30208, saving model to .\\best_not_segmented.hdf5\n",
      "96/96 [==============================] - 537s 6s/step - loss: 2.3828 - acc: 0.1624 - val_loss: 1.7181 - val_acc: 0.3021\n",
      "Epoch 2/30\n",
      "30/96 [========>.....................] - ETA: 4:57 - loss: 2.1512 - acc: 0.2177"
     ]
    },
    {
     "ename": "KeyboardInterrupt",
     "evalue": "",
     "output_type": "error",
     "traceback": [
      "\u001b[1;31m---------------------------------------------------------------------------\u001b[0m",
      "\u001b[1;31mKeyboardInterrupt\u001b[0m                         Traceback (most recent call last)",
      "\u001b[1;32mc:\\Users\\Daniel\\Desktop\\study\\TI6\\src\\main_not_segmented.ipynb Cell 28\u001b[0m in \u001b[0;36m<cell line: 5>\u001b[1;34m()\u001b[0m\n\u001b[0;32m      <a href='vscode-notebook-cell:/c%3A/Users/Daniel/Desktop/study/TI6/src/main_not_segmented.ipynb#X34sZmlsZQ%3D%3D?line=1'>2</a>\u001b[0m step_size_train \u001b[39m=\u001b[39m train_images\u001b[39m.\u001b[39mn\u001b[39m/\u001b[39m\u001b[39m/\u001b[39mtrain_images\u001b[39m.\u001b[39mbatch_size\n\u001b[0;32m      <a href='vscode-notebook-cell:/c%3A/Users/Daniel/Desktop/study/TI6/src/main_not_segmented.ipynb#X34sZmlsZQ%3D%3D?line=2'>3</a>\u001b[0m step_size_validation \u001b[39m=\u001b[39m validation_images\u001b[39m.\u001b[39mn\u001b[39m/\u001b[39m\u001b[39m/\u001b[39mvalidation_images\u001b[39m.\u001b[39mbatch_size\n\u001b[1;32m----> <a href='vscode-notebook-cell:/c%3A/Users/Daniel/Desktop/study/TI6/src/main_not_segmented.ipynb#X34sZmlsZQ%3D%3D?line=4'>5</a>\u001b[0m resnet50_model\u001b[39m.\u001b[39;49mfit(\n\u001b[0;32m      <a href='vscode-notebook-cell:/c%3A/Users/Daniel/Desktop/study/TI6/src/main_not_segmented.ipynb#X34sZmlsZQ%3D%3D?line=5'>6</a>\u001b[0m     train_images,\n\u001b[0;32m      <a href='vscode-notebook-cell:/c%3A/Users/Daniel/Desktop/study/TI6/src/main_not_segmented.ipynb#X34sZmlsZQ%3D%3D?line=6'>7</a>\u001b[0m     validation_data\u001b[39m=\u001b[39;49mvalidation_images,\n\u001b[0;32m      <a href='vscode-notebook-cell:/c%3A/Users/Daniel/Desktop/study/TI6/src/main_not_segmented.ipynb#X34sZmlsZQ%3D%3D?line=7'>8</a>\u001b[0m     epochs\u001b[39m=\u001b[39;49m\u001b[39m30\u001b[39;49m,\n\u001b[0;32m      <a href='vscode-notebook-cell:/c%3A/Users/Daniel/Desktop/study/TI6/src/main_not_segmented.ipynb#X34sZmlsZQ%3D%3D?line=8'>9</a>\u001b[0m     callbacks\u001b[39m=\u001b[39;49m[cb_checkpointer],\n\u001b[0;32m     <a href='vscode-notebook-cell:/c%3A/Users/Daniel/Desktop/study/TI6/src/main_not_segmented.ipynb#X34sZmlsZQ%3D%3D?line=9'>10</a>\u001b[0m     validation_steps\u001b[39m=\u001b[39;49mstep_size_validation,\n\u001b[0;32m     <a href='vscode-notebook-cell:/c%3A/Users/Daniel/Desktop/study/TI6/src/main_not_segmented.ipynb#X34sZmlsZQ%3D%3D?line=10'>11</a>\u001b[0m     steps_per_epoch\u001b[39m=\u001b[39;49mstep_size_train\n\u001b[0;32m     <a href='vscode-notebook-cell:/c%3A/Users/Daniel/Desktop/study/TI6/src/main_not_segmented.ipynb#X34sZmlsZQ%3D%3D?line=11'>12</a>\u001b[0m )\n\u001b[0;32m     <a href='vscode-notebook-cell:/c%3A/Users/Daniel/Desktop/study/TI6/src/main_not_segmented.ipynb#X34sZmlsZQ%3D%3D?line=12'>13</a>\u001b[0m resnet50_model\u001b[39m.\u001b[39mload_weights(\u001b[39m\"\u001b[39m\u001b[39m./best_not_segmented.hdf5\u001b[39m\u001b[39m\"\u001b[39m)\n",
      "File \u001b[1;32m~\\AppData\\Roaming\\Python\\Python310\\site-packages\\keras\\utils\\traceback_utils.py:65\u001b[0m, in \u001b[0;36mfilter_traceback.<locals>.error_handler\u001b[1;34m(*args, **kwargs)\u001b[0m\n\u001b[0;32m     63\u001b[0m filtered_tb \u001b[39m=\u001b[39m \u001b[39mNone\u001b[39;00m\n\u001b[0;32m     64\u001b[0m \u001b[39mtry\u001b[39;00m:\n\u001b[1;32m---> 65\u001b[0m     \u001b[39mreturn\u001b[39;00m fn(\u001b[39m*\u001b[39margs, \u001b[39m*\u001b[39m\u001b[39m*\u001b[39mkwargs)\n\u001b[0;32m     66\u001b[0m \u001b[39mexcept\u001b[39;00m \u001b[39mException\u001b[39;00m \u001b[39mas\u001b[39;00m e:\n\u001b[0;32m     67\u001b[0m     filtered_tb \u001b[39m=\u001b[39m _process_traceback_frames(e\u001b[39m.\u001b[39m__traceback__)\n",
      "File \u001b[1;32m~\\AppData\\Roaming\\Python\\Python310\\site-packages\\keras\\engine\\training.py:1685\u001b[0m, in \u001b[0;36mModel.fit\u001b[1;34m(self, x, y, batch_size, epochs, verbose, callbacks, validation_split, validation_data, shuffle, class_weight, sample_weight, initial_epoch, steps_per_epoch, validation_steps, validation_batch_size, validation_freq, max_queue_size, workers, use_multiprocessing)\u001b[0m\n\u001b[0;32m   1677\u001b[0m \u001b[39mwith\u001b[39;00m tf\u001b[39m.\u001b[39mprofiler\u001b[39m.\u001b[39mexperimental\u001b[39m.\u001b[39mTrace(\n\u001b[0;32m   1678\u001b[0m     \u001b[39m\"\u001b[39m\u001b[39mtrain\u001b[39m\u001b[39m\"\u001b[39m,\n\u001b[0;32m   1679\u001b[0m     epoch_num\u001b[39m=\u001b[39mepoch,\n\u001b[1;32m   (...)\u001b[0m\n\u001b[0;32m   1682\u001b[0m     _r\u001b[39m=\u001b[39m\u001b[39m1\u001b[39m,\n\u001b[0;32m   1683\u001b[0m ):\n\u001b[0;32m   1684\u001b[0m     callbacks\u001b[39m.\u001b[39mon_train_batch_begin(step)\n\u001b[1;32m-> 1685\u001b[0m     tmp_logs \u001b[39m=\u001b[39m \u001b[39mself\u001b[39;49m\u001b[39m.\u001b[39;49mtrain_function(iterator)\n\u001b[0;32m   1686\u001b[0m     \u001b[39mif\u001b[39;00m data_handler\u001b[39m.\u001b[39mshould_sync:\n\u001b[0;32m   1687\u001b[0m         context\u001b[39m.\u001b[39masync_wait()\n",
      "File \u001b[1;32m~\\AppData\\Roaming\\Python\\Python310\\site-packages\\tensorflow\\python\\util\\traceback_utils.py:150\u001b[0m, in \u001b[0;36mfilter_traceback.<locals>.error_handler\u001b[1;34m(*args, **kwargs)\u001b[0m\n\u001b[0;32m    148\u001b[0m filtered_tb \u001b[39m=\u001b[39m \u001b[39mNone\u001b[39;00m\n\u001b[0;32m    149\u001b[0m \u001b[39mtry\u001b[39;00m:\n\u001b[1;32m--> 150\u001b[0m   \u001b[39mreturn\u001b[39;00m fn(\u001b[39m*\u001b[39margs, \u001b[39m*\u001b[39m\u001b[39m*\u001b[39mkwargs)\n\u001b[0;32m    151\u001b[0m \u001b[39mexcept\u001b[39;00m \u001b[39mException\u001b[39;00m \u001b[39mas\u001b[39;00m e:\n\u001b[0;32m    152\u001b[0m   filtered_tb \u001b[39m=\u001b[39m _process_traceback_frames(e\u001b[39m.\u001b[39m__traceback__)\n",
      "File \u001b[1;32m~\\AppData\\Roaming\\Python\\Python310\\site-packages\\tensorflow\\python\\eager\\polymorphic_function\\polymorphic_function.py:894\u001b[0m, in \u001b[0;36mFunction.__call__\u001b[1;34m(self, *args, **kwds)\u001b[0m\n\u001b[0;32m    891\u001b[0m compiler \u001b[39m=\u001b[39m \u001b[39m\"\u001b[39m\u001b[39mxla\u001b[39m\u001b[39m\"\u001b[39m \u001b[39mif\u001b[39;00m \u001b[39mself\u001b[39m\u001b[39m.\u001b[39m_jit_compile \u001b[39melse\u001b[39;00m \u001b[39m\"\u001b[39m\u001b[39mnonXla\u001b[39m\u001b[39m\"\u001b[39m\n\u001b[0;32m    893\u001b[0m \u001b[39mwith\u001b[39;00m OptionalXlaContext(\u001b[39mself\u001b[39m\u001b[39m.\u001b[39m_jit_compile):\n\u001b[1;32m--> 894\u001b[0m   result \u001b[39m=\u001b[39m \u001b[39mself\u001b[39m\u001b[39m.\u001b[39m_call(\u001b[39m*\u001b[39margs, \u001b[39m*\u001b[39m\u001b[39m*\u001b[39mkwds)\n\u001b[0;32m    896\u001b[0m new_tracing_count \u001b[39m=\u001b[39m \u001b[39mself\u001b[39m\u001b[39m.\u001b[39mexperimental_get_tracing_count()\n\u001b[0;32m    897\u001b[0m without_tracing \u001b[39m=\u001b[39m (tracing_count \u001b[39m==\u001b[39m new_tracing_count)\n",
      "File \u001b[1;32m~\\AppData\\Roaming\\Python\\Python310\\site-packages\\tensorflow\\python\\eager\\polymorphic_function\\polymorphic_function.py:926\u001b[0m, in \u001b[0;36mFunction._call\u001b[1;34m(self, *args, **kwds)\u001b[0m\n\u001b[0;32m    923\u001b[0m   \u001b[39mself\u001b[39m\u001b[39m.\u001b[39m_lock\u001b[39m.\u001b[39mrelease()\n\u001b[0;32m    924\u001b[0m   \u001b[39m# In this case we have created variables on the first call, so we run the\u001b[39;00m\n\u001b[0;32m    925\u001b[0m   \u001b[39m# defunned version which is guaranteed to never create variables.\u001b[39;00m\n\u001b[1;32m--> 926\u001b[0m   \u001b[39mreturn\u001b[39;00m \u001b[39mself\u001b[39m\u001b[39m.\u001b[39m_no_variable_creation_fn(\u001b[39m*\u001b[39margs, \u001b[39m*\u001b[39m\u001b[39m*\u001b[39mkwds)  \u001b[39m# pylint: disable=not-callable\u001b[39;00m\n\u001b[0;32m    927\u001b[0m \u001b[39melif\u001b[39;00m \u001b[39mself\u001b[39m\u001b[39m.\u001b[39m_variable_creation_fn \u001b[39mis\u001b[39;00m \u001b[39mnot\u001b[39;00m \u001b[39mNone\u001b[39;00m:\n\u001b[0;32m    928\u001b[0m   \u001b[39m# Release the lock early so that multiple threads can perform the call\u001b[39;00m\n\u001b[0;32m    929\u001b[0m   \u001b[39m# in parallel.\u001b[39;00m\n\u001b[0;32m    930\u001b[0m   \u001b[39mself\u001b[39m\u001b[39m.\u001b[39m_lock\u001b[39m.\u001b[39mrelease()\n",
      "File \u001b[1;32m~\\AppData\\Roaming\\Python\\Python310\\site-packages\\tensorflow\\python\\eager\\polymorphic_function\\tracing_compiler.py:143\u001b[0m, in \u001b[0;36mTracingCompiler.__call__\u001b[1;34m(self, *args, **kwargs)\u001b[0m\n\u001b[0;32m    140\u001b[0m \u001b[39mwith\u001b[39;00m \u001b[39mself\u001b[39m\u001b[39m.\u001b[39m_lock:\n\u001b[0;32m    141\u001b[0m   (concrete_function,\n\u001b[0;32m    142\u001b[0m    filtered_flat_args) \u001b[39m=\u001b[39m \u001b[39mself\u001b[39m\u001b[39m.\u001b[39m_maybe_define_function(args, kwargs)\n\u001b[1;32m--> 143\u001b[0m \u001b[39mreturn\u001b[39;00m concrete_function\u001b[39m.\u001b[39;49m_call_flat(\n\u001b[0;32m    144\u001b[0m     filtered_flat_args, captured_inputs\u001b[39m=\u001b[39;49mconcrete_function\u001b[39m.\u001b[39;49mcaptured_inputs)\n",
      "File \u001b[1;32m~\\AppData\\Roaming\\Python\\Python310\\site-packages\\tensorflow\\python\\eager\\polymorphic_function\\monomorphic_function.py:1757\u001b[0m, in \u001b[0;36mConcreteFunction._call_flat\u001b[1;34m(self, args, captured_inputs, cancellation_manager)\u001b[0m\n\u001b[0;32m   1753\u001b[0m possible_gradient_type \u001b[39m=\u001b[39m gradients_util\u001b[39m.\u001b[39mPossibleTapeGradientTypes(args)\n\u001b[0;32m   1754\u001b[0m \u001b[39mif\u001b[39;00m (possible_gradient_type \u001b[39m==\u001b[39m gradients_util\u001b[39m.\u001b[39mPOSSIBLE_GRADIENT_TYPES_NONE\n\u001b[0;32m   1755\u001b[0m     \u001b[39mand\u001b[39;00m executing_eagerly):\n\u001b[0;32m   1756\u001b[0m   \u001b[39m# No tape is watching; skip to running the function.\u001b[39;00m\n\u001b[1;32m-> 1757\u001b[0m   \u001b[39mreturn\u001b[39;00m \u001b[39mself\u001b[39m\u001b[39m.\u001b[39m_build_call_outputs(\u001b[39mself\u001b[39;49m\u001b[39m.\u001b[39;49m_inference_function\u001b[39m.\u001b[39;49mcall(\n\u001b[0;32m   1758\u001b[0m       ctx, args, cancellation_manager\u001b[39m=\u001b[39;49mcancellation_manager))\n\u001b[0;32m   1759\u001b[0m forward_backward \u001b[39m=\u001b[39m \u001b[39mself\u001b[39m\u001b[39m.\u001b[39m_select_forward_and_backward_functions(\n\u001b[0;32m   1760\u001b[0m     args,\n\u001b[0;32m   1761\u001b[0m     possible_gradient_type,\n\u001b[0;32m   1762\u001b[0m     executing_eagerly)\n\u001b[0;32m   1763\u001b[0m forward_function, args_with_tangents \u001b[39m=\u001b[39m forward_backward\u001b[39m.\u001b[39mforward()\n",
      "File \u001b[1;32m~\\AppData\\Roaming\\Python\\Python310\\site-packages\\tensorflow\\python\\eager\\polymorphic_function\\monomorphic_function.py:381\u001b[0m, in \u001b[0;36m_EagerDefinedFunction.call\u001b[1;34m(self, ctx, args, cancellation_manager)\u001b[0m\n\u001b[0;32m    379\u001b[0m \u001b[39mwith\u001b[39;00m _InterpolateFunctionError(\u001b[39mself\u001b[39m):\n\u001b[0;32m    380\u001b[0m   \u001b[39mif\u001b[39;00m cancellation_manager \u001b[39mis\u001b[39;00m \u001b[39mNone\u001b[39;00m:\n\u001b[1;32m--> 381\u001b[0m     outputs \u001b[39m=\u001b[39m execute\u001b[39m.\u001b[39;49mexecute(\n\u001b[0;32m    382\u001b[0m         \u001b[39mstr\u001b[39;49m(\u001b[39mself\u001b[39;49m\u001b[39m.\u001b[39;49msignature\u001b[39m.\u001b[39;49mname),\n\u001b[0;32m    383\u001b[0m         num_outputs\u001b[39m=\u001b[39;49m\u001b[39mself\u001b[39;49m\u001b[39m.\u001b[39;49m_num_outputs,\n\u001b[0;32m    384\u001b[0m         inputs\u001b[39m=\u001b[39;49margs,\n\u001b[0;32m    385\u001b[0m         attrs\u001b[39m=\u001b[39;49mattrs,\n\u001b[0;32m    386\u001b[0m         ctx\u001b[39m=\u001b[39;49mctx)\n\u001b[0;32m    387\u001b[0m   \u001b[39melse\u001b[39;00m:\n\u001b[0;32m    388\u001b[0m     outputs \u001b[39m=\u001b[39m execute\u001b[39m.\u001b[39mexecute_with_cancellation(\n\u001b[0;32m    389\u001b[0m         \u001b[39mstr\u001b[39m(\u001b[39mself\u001b[39m\u001b[39m.\u001b[39msignature\u001b[39m.\u001b[39mname),\n\u001b[0;32m    390\u001b[0m         num_outputs\u001b[39m=\u001b[39m\u001b[39mself\u001b[39m\u001b[39m.\u001b[39m_num_outputs,\n\u001b[1;32m   (...)\u001b[0m\n\u001b[0;32m    393\u001b[0m         ctx\u001b[39m=\u001b[39mctx,\n\u001b[0;32m    394\u001b[0m         cancellation_manager\u001b[39m=\u001b[39mcancellation_manager)\n",
      "File \u001b[1;32m~\\AppData\\Roaming\\Python\\Python310\\site-packages\\tensorflow\\python\\eager\\execute.py:52\u001b[0m, in \u001b[0;36mquick_execute\u001b[1;34m(op_name, num_outputs, inputs, attrs, ctx, name)\u001b[0m\n\u001b[0;32m     50\u001b[0m \u001b[39mtry\u001b[39;00m:\n\u001b[0;32m     51\u001b[0m   ctx\u001b[39m.\u001b[39mensure_initialized()\n\u001b[1;32m---> 52\u001b[0m   tensors \u001b[39m=\u001b[39m pywrap_tfe\u001b[39m.\u001b[39;49mTFE_Py_Execute(ctx\u001b[39m.\u001b[39;49m_handle, device_name, op_name,\n\u001b[0;32m     53\u001b[0m                                       inputs, attrs, num_outputs)\n\u001b[0;32m     54\u001b[0m \u001b[39mexcept\u001b[39;00m core\u001b[39m.\u001b[39m_NotOkStatusException \u001b[39mas\u001b[39;00m e:\n\u001b[0;32m     55\u001b[0m   \u001b[39mif\u001b[39;00m name \u001b[39mis\u001b[39;00m \u001b[39mnot\u001b[39;00m \u001b[39mNone\u001b[39;00m:\n",
      "\u001b[1;31mKeyboardInterrupt\u001b[0m: "
     ]
    }
   ],
   "source": [
    "# Fit model with train and validation, and add callbacks\n",
    "step_size_train = train_images.n//train_images.batch_size\n",
    "step_size_validation = validation_images.n//validation_images.batch_size\n",
    "\n",
    "resnet50_model.fit(\n",
    "    train_images,\n",
    "    validation_data=validation_images,\n",
    "    epochs=30,\n",
    "    callbacks=[cb_checkpointer],\n",
    "    validation_steps=step_size_validation,\n",
    "    steps_per_epoch=step_size_train\n",
    ")\n",
    "resnet50_model.load_weights(\"./best_not_segmented.hdf5\")"
   ]
  },
  {
   "attachments": {},
   "cell_type": "markdown",
   "metadata": {},
   "source": [
    "# Evaluation Model"
   ]
  },
  {
   "cell_type": "code",
   "execution_count": 15,
   "metadata": {},
   "outputs": [
    {
     "data": {
      "image/png": "[encoded data removed]",
      "text/plain": [
       "<Figure size 640x480 with 1 Axes>"
      ]
     },
     "metadata": {},
     "output_type": "display_data"
    },
    {
     "data": {
      "image/png": "[encoded data removed]",
      "text/plain": [
       "<Figure size 640x480 with 1 Axes>"
      ]
     },
     "metadata": {},
     "output_type": "display_data"
    }
   ],
   "source": [
    "# Obter as métricas de treinamento\n",
    "train_accuracy = resnet50_model.history.history['acc']\n",
    "train_loss = resnet50_model.history.history['loss']\n",
    "\n",
    "# Obter as métricas de validação\n",
    "val_accuracy = resnet50_model.history.history['val_acc']\n",
    "val_loss = resnet50_model.history.history['val_loss']\n",
    "\n",
    "# Criar gráfico da acurácia\n",
    "plt.plot(train_accuracy, label='Train Accuracy')\n",
    "plt.plot(val_accuracy, label='Validation Accuracy')\n",
    "plt.xlabel('Epochs')\n",
    "plt.ylabel('Accuracy')\n",
    "plt.legend()\n",
    "plt.title('Training and Validation Accuracy')\n",
    "plt.show()\n",
    "\n",
    "# Criar gráfico da perda\n",
    "plt.plot(train_loss, label='Train Loss')\n",
    "plt.plot(val_loss, label='Validation Loss')\n",
    "plt.xlabel('Epochs')\n",
    "plt.ylabel('Loss')\n",
    "plt.legend()\n",
    "plt.title('Training and Validation Loss')\n",
    "plt.show()\n"
   ]
  },
  {
   "cell_type": "code",
   "execution_count": 23,
   "metadata": {},
   "outputs": [
    {
     "name": "stdout",
     "output_type": "stream",
     "text": [
      "Validation Loss: 1.05\n",
      "Validation Accuracy: 59.38%\n",
      "Validation Precision: 68.18%\n",
      "Validation Recall: 46.88%\n"
     ]
    }
   ],
   "source": [
    "# Calcular as métricas nos dados de validatione (mesmo que o gerador de validação)\n",
    "validation_results = resnet50_model.evaluate_generator(validation_generator, steps=1)\n",
    "\n",
    "# Extrair as métricas\n",
    "validation_loss = validation_results[0]\n",
    "validation_accuracy = validation_results[1]\n",
    "validation_precision = validation_results[2]\n",
    "validation_recall = validation_results[3]\n",
    "\n",
    "# Imprimir as métricas\n",
    "print(f'Validation Loss: {round(validation_loss, 2)}')\n",
    "print(f'Validation Accuracy: {round(validation_accuracy * 100, 2)}%')\n",
    "print(f'Validation Precision: {round(validation_precision * 100, 2)}%')\n",
    "print(f'Validation Recall: {round(validation_recall* 100, 2)}%')"
   ]
  },
  {
   "cell_type": "code",
   "execution_count": 31,
   "metadata": {},
   "outputs": [
    {
     "data": {
      "text/plain": [
       "array([1, 1, 1, 2, 1, 0, 2, 1, 1, 1, 0, 1, 1, 1, 3, 3, 0, 1, 1, 1, 2, 1,\n",
       "       0, 2, 2, 2, 1, 3, 1, 1, 2, 2], dtype=int64)"
      ]
     },
     "execution_count": 31,
     "metadata": {},
     "output_type": "execute_result"
    }
   ],
   "source": [
    "from sklearn.metrics import confusion_matrix\n",
    "\n",
    "validation_predictions = resnet50_model.predict_generator(validation_generator, steps=1)\n",
    "\n",
    "y_pred = np.argmax(validation_predictions, axis=1)\n",
    "y_pred"
   ]
  },
  {
   "attachments": {},
   "cell_type": "markdown",
   "metadata": {},
   "source": [
    "# Testar o Modelo para 1 imagem"
   ]
  },
  {
   "cell_type": "code",
   "execution_count": 102,
   "metadata": {},
   "outputs": [
    {
     "name": "stdout",
     "output_type": "stream",
     "text": [
      "Previsão: IV\n",
      "Precisão: 0.65678275\n"
     ]
    }
   ],
   "source": [
    "# Carregar a imagem\n",
    "image_path = 'images_train_segmented_increased\\IV\\g_right_mlo (1).png'\n",
    "image = cv2.imread(image_path)\n",
    "image = cv2.cvtColor(image, cv2.COLOR_BGR2RGB)  # Converter o padrão de cores para RGB\n",
    "image = cv2.resize(image, (224, 224))  # Redimensionar a imagem para o tamanho esperado pelo modelo (224x224)\n",
    "image = np.expand_dims(image, axis=0)  # Adicionar uma dimensão extra para representar o batch de imagens\n",
    "\n",
    "# Pré-processar a imagem\n",
    "image = preprocess_input(image)\n",
    "\n",
    "# Predicao\n",
    "predictions = resnet50_model.predict(image)\n",
    "\n",
    "# Interpretar as previsões\n",
    "class_names = ['I', 'II', 'III', 'IV']\n",
    "predicted_class = np.argmax(predictions[0])\n",
    "predicted_label = class_names[predicted_class]\n",
    "\n",
    "# Calcular a precisão da previsão\n",
    "accuracy = predictions[0][predicted_class]\n",
    "\n",
    "print('Previsão:', predicted_label)\n",
    "print('Precisão:', accuracy)"
   ]
  }
 ],
 "metadata": {
  "kernelspec": {
   "display_name": "Python 3",
   "language": "python",
   "name": "python3"
  },
  "language_info": {
   "codemirror_mode": {
    "name": "ipython",
    "version": 3
   },
   "file_extension": ".py",
   "mimetype": "text/x-python",
   "name": "python",
   "nbconvert_exporter": "python",
   "pygments_lexer": "ipython3",
   "version": "3.10.6"
  },
  "orig_nbformat": 4
 },
 "nbformat": 4,
 "nbformat_minor": 2
}
